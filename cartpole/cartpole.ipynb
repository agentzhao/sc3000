{
  "nbformat": 4,
  "nbformat_minor": 0,
  "metadata": {
    "colab": {
      "provenance": []
    },
    "kernelspec": {
      "name": "python3",
      "display_name": "Python 3"
    },
    "language_info": {
      "name": "python"
    }
  },
  "cells": [
    {
      "cell_type": "markdown",
      "metadata": {
        "id": "view-in-github"
      },
      "source": [
        "<a href=\"https://colab.research.google.com/github/yue-zhongqi/cartpole_colab/blob/main/cartpole.ipynb\" target=\"_parent\"><img src=\"https://colab.research.google.com/assets/colab-badge.svg\" alt=\"Open In Colab\"/></a>"
      ]
    },
    {
      "cell_type": "markdown",
      "source": [
        "# Tutorial and Sample Code for Balancing a Pole on a Cart"
      ],
      "metadata": {
        "id": "ZauhjPSfX7pI"
      }
    },
    {
      "cell_type": "markdown",
      "source": [
        "## Installing dependencies:"
      ],
      "metadata": {
        "id": "UBiYOoesYMvr"
      }
    },
    {
      "cell_type": "code",
      "execution_count": null,
      "metadata": {
        "colab": {
          "base_uri": "https://localhost:8080/"
        },
        "id": "PbgnVwZmX5uW",
        "outputId": "e5e9930d-3f41-4fbd-b6e1-6e747ed17737"
      },
      "outputs": [
        {
          "output_type": "stream",
          "name": "stdout",
          "text": [
            "Looking in indexes: https://pypi.org/simple, https://us-python.pkg.dev/colab-wheels/public/simple/\n",
            "Requirement already satisfied: gym[classic_control] in /usr/local/lib/python3.8/dist-packages (0.25.2)\n",
            "Requirement already satisfied: importlib-metadata>=4.8.0 in /usr/local/lib/python3.8/dist-packages (from gym[classic_control]) (6.0.0)\n",
            "Requirement already satisfied: numpy>=1.18.0 in /usr/local/lib/python3.8/dist-packages (from gym[classic_control]) (1.22.4)\n",
            "Requirement already satisfied: cloudpickle>=1.2.0 in /usr/local/lib/python3.8/dist-packages (from gym[classic_control]) (2.2.1)\n",
            "Requirement already satisfied: gym-notices>=0.0.4 in /usr/local/lib/python3.8/dist-packages (from gym[classic_control]) (0.0.8)\n",
            "Requirement already satisfied: pygame==2.1.0 in /usr/local/lib/python3.8/dist-packages (from gym[classic_control]) (2.1.0)\n",
            "Requirement already satisfied: zipp>=0.5 in /usr/local/lib/python3.8/dist-packages (from importlib-metadata>=4.8.0->gym[classic_control]) (3.15.0)\n",
            "Looking in indexes: https://pypi.org/simple, https://us-python.pkg.dev/colab-wheels/public/simple/\n",
            "Requirement already satisfied: setuptools in /usr/local/lib/python3.8/dist-packages (67.4.0)\n"
          ]
        }
      ],
      "source": [
        "!apt-get install -y xvfb python-opengl > /dev/null 2>&1\n",
        "!pip install gym pyvirtualdisplay > /dev/null 2>&1\n",
        "!pip install gym pyvirtualdisplay > /dev/null 2>&1\n",
        "!apt-get install -y xvfb python-opengl ffmpeg > /dev/null 2>&1\n",
        "!pip install gym[classic_control]\n",
        "!apt-get update > /dev/null 2>&1\n",
        "!apt-get install cmake > /dev/null 2>&1\n",
        "!pip install --upgrade setuptools 2>&1\n",
        "!pip install ez_setup > /dev/null 2>&1"
      ]
    },
    {
      "cell_type": "markdown",
      "source": [
        "## Importing dependencies and define helper functions"
      ],
      "metadata": {
        "id": "RwKbYeTgbaTA"
      }
    },
    {
      "cell_type": "code",
      "source": [
        "import gym\n",
        "from gym import logger as gymlogger\n",
        "from gym.wrappers import RecordVideo\n",
        "gymlogger.set_level(40) #error only\n",
        "import tensorflow as tf\n",
        "import numpy as np\n",
        "import random\n",
        "import matplotlib\n",
        "import matplotlib.pyplot as plt\n",
        "%matplotlib inline\n",
        "import math\n",
        "import glob\n",
        "import io\n",
        "import base64\n",
        "from IPython.display import HTML\n",
        "from IPython import display as ipythondisplay\n",
        "\n",
        "def show_video():\n",
        "  mp4list = glob.glob('video/*.mp4')\n",
        "  if len(mp4list) > 0:\n",
        "    mp4 = mp4list[0]\n",
        "    video = io.open(mp4, 'r+b').read()\n",
        "    encoded = base64.b64encode(video)\n",
        "    ipythondisplay.display(HTML(data='''<video alt=\"test\" autoplay \n",
        "                loop controls style=\"height: 400px;\">\n",
        "                <source src=\"data:video/mp4;base64,{0}\" type=\"video/mp4\" />\n",
        "             </video>'''.format(encoded.decode('ascii'))))\n",
        "  else: \n",
        "    print(\"Could not find video\")"
      ],
      "metadata": {
        "id": "j6KpgCLGYWmj"
      },
      "execution_count": null,
      "outputs": []
    },
    {
      "cell_type": "markdown",
      "source": [
        "## Tutorial: Loading CartPole environment"
      ],
      "metadata": {
        "id": "ehbqP9CXbmo7"
      }
    },
    {
      "cell_type": "code",
      "source": [
        "env = gym.make(\"CartPole-v1\")"
      ],
      "metadata": {
        "id": "Go12dH4qbwBy"
      },
      "execution_count": null,
      "outputs": []
    },
    {
      "cell_type": "markdown",
      "source": [
        "We can check the action and observation space of this environment. Discrete(2) means that there are two valid discrete actions: 0 & 1."
      ],
      "metadata": {
        "id": "9XZ9g3xrcAXE"
      }
    },
    {
      "cell_type": "code",
      "source": [
        "print(env.action_space)"
      ],
      "metadata": {
        "colab": {
          "base_uri": "https://localhost:8080/"
        },
        "id": "ytxvVmLdcRyw",
        "outputId": "1ce07099-492b-4126-a792-8ff12d79c2db"
      },
      "execution_count": null,
      "outputs": [
        {
          "output_type": "stream",
          "name": "stdout",
          "text": [
            "Discrete(2)\n"
          ]
        }
      ]
    },
    {
      "cell_type": "markdown",
      "source": [
        "The observation space is given below. The first two arrays define the min and max values of the 4 observed values, corresponding to cart position, velocity and pole angle, angular velocity."
      ],
      "metadata": {
        "id": "pVXGWi_Ncfg-"
      }
    },
    {
      "cell_type": "code",
      "source": [
        "print(env.observation_space)"
      ],
      "metadata": {
        "colab": {
          "base_uri": "https://localhost:8080/"
        },
        "id": "DyqHr9I5cdkX",
        "outputId": "369a0733-e7c0-4bca-b427-5e1c603ff074"
      },
      "execution_count": null,
      "outputs": [
        {
          "output_type": "stream",
          "name": "stdout",
          "text": [
            "Box([-4.8000002e+00 -3.4028235e+38 -4.1887903e-01 -3.4028235e+38], [4.8000002e+00 3.4028235e+38 4.1887903e-01 3.4028235e+38], (4,), float32)\n"
          ]
        }
      ]
    },
    {
      "cell_type": "markdown",
      "source": [
        "We call each round of the pole-balancing game an \"episode\". At the start of each episode, make sure the environment is reset, which chooses a random initial state, e.g., pole slightly tilted to the right. This initialization can be achieved by the code below, which returns the observation of the initial state."
      ],
      "metadata": {
        "id": "HFOdaU2Gdyg0"
      }
    },
    {
      "cell_type": "code",
      "source": [
        "observation = env.reset()\n",
        "print(\"Initial observations:\", observation)"
      ],
      "metadata": {
        "colab": {
          "base_uri": "https://localhost:8080/"
        },
        "id": "VMr6qAqxdOsm",
        "outputId": "0e35ee3b-15d0-4e1f-926c-194a5a43f830"
      },
      "execution_count": null,
      "outputs": [
        {
          "output_type": "stream",
          "name": "stdout",
          "text": [
            "Initial observations: [-0.02497412  0.02682057 -0.01098384 -0.01729968]\n"
          ]
        }
      ]
    },
    {
      "cell_type": "markdown",
      "source": [
        "For the CartPole environment, there are two possible actions: 0 for pushing to the left and 1 for pushing to the right. For example, we can push the cart to the left using code below, which returns the new observation, the current reward, an indicator of whether the game ends, and some additional information (not used in this project). For CartPole, the game ends when the pole is significantly tilted or you manage to balance the pole for 500 steps. You get exactly 1 reward for each step before the game ends (i.e., max cumulative reward is 500)."
      ],
      "metadata": {
        "id": "qnG2QdfbeZrI"
      }
    },
    {
      "cell_type": "code",
      "source": [
        "observation, reward, done, info = env.step(0)\n",
        "print(\"New observations after choosing action 0:\", observation)\n",
        "print(\"Reward for this step:\", reward)\n",
        "print(\"Is this round done?\", done)"
      ],
      "metadata": {
        "colab": {
          "base_uri": "https://localhost:8080/"
        },
        "id": "MmfMDvyYdWGk",
        "outputId": "fa12ffd8-6707-4cbc-fb86-aef8484d5d17"
      },
      "execution_count": null,
      "outputs": [
        {
          "output_type": "stream",
          "name": "stdout",
          "text": [
            "New observations after choosing action 0: [-0.0244377  -0.16814215 -0.01132983  0.27189758]\n",
            "Reward for this step: 1.0\n",
            "Is this round done? False\n"
          ]
        }
      ]
    },
    {
      "cell_type": "markdown",
      "source": [
        "Now we can play a full round of the game using a naive strategy (always choosing action 0), and show the cumulative reward in the round. Note that reward returned by env.step(*) corresponds to the reward for current step. So we have to accumulate the reward for each step. Clearly, the naive strategy performs poorly by surviving only a dozen of steps."
      ],
      "metadata": {
        "id": "tj0zCh59fhBb"
      }
    },
    {
      "cell_type": "code",
      "source": [
        "observation = env.reset()\n",
        "cumulative_reward = 0\n",
        "done = False\n",
        "while not done:\n",
        "    observation, reward, done, info = env.step(0)\n",
        "    cumulative_reward += reward\n",
        "print(\"Cumulative reward for this round:\", cumulative_reward)"
      ],
      "metadata": {
        "colab": {
          "base_uri": "https://localhost:8080/"
        },
        "id": "AVucQVRwf6Jm",
        "outputId": "72f0b7d5-7cb5-4e37-da3d-997c1bfb4641"
      },
      "execution_count": null,
      "outputs": [
        {
          "output_type": "stream",
          "name": "stdout",
          "text": [
            "Cumulative reward for this round: 10.0\n"
          ]
        }
      ]
    },
    {
      "cell_type": "markdown",
      "source": [
        "## Task 1: Development of an RL agent"
      ],
      "metadata": {
        "id": "2oIzK9SzhlWN"
      }
    },
    {
      "cell_type": "markdown",
      "source": [
        "An example of a naive agent is given below, which randomly chooses an action regardless of the observation:"
      ],
      "metadata": {
        "id": "Cc6_e5c_huiq"
      }
    },
    {
      "cell_type": "markdown",
      "source": [
        "### Theta Omega Policy\n"
      ],
      "metadata": {
        "id": "lhXfvHndsrpD"
      }
    },
    {
      "cell_type": "code",
      "source": [
        "def theta_omega_policy(observation):\n",
        "    theta, w = observation[2:4]\n",
        "    if abs(theta) < 0.03:\n",
        "        return 0 if w < 0 else 1\n",
        "    else:\n",
        "        return 0 if theta < 0 else 1"
      ],
      "metadata": {
        "id": "fXmXE_M43Oux"
      },
      "execution_count": 26,
      "outputs": []
    },
    {
      "cell_type": "markdown",
      "source": [
        "## Task 2: Demonstrate the effectiveness of the RL agent"
      ],
      "metadata": {
        "id": "-XtIQ0Rti1gm"
      }
    },
    {
      "cell_type": "markdown",
      "source": [
        "For this task, use the agent developed in Task 1 to play the game for 100 episodes (refer to tutorial for how to play a round), record the cumulative reward for each round, and plot the reward for each round. A sample plotting code is given below. Note that you must include code to play for 100 episodes and use the code to obtain round_results for plotting. DO NOT record the round results in advance and paste the results to the notebook."
      ],
      "metadata": {
        "id": "djBEShf0kGI4"
      }
    },
    {
      "cell_type": "code",
      "source": [
        "EPISODES = 100\n",
        "MAX_ACTIONS = 500"
      ],
      "metadata": {
        "id": "RpOD_EJc6PH6"
      },
      "execution_count": 37,
      "outputs": []
    },
    {
      "cell_type": "code",
      "source": [
        "def test_policy(policy_func, n_scenario = EPISODES, max_actions = MAX_ACTIONS, verbose=False):\n",
        "    final_rewards = []\n",
        "    for episode in range(n_scenario):\n",
        "        if verbose and episode % 50 == 0:\n",
        "            print(episode)\n",
        "        episode_rewards = 0\n",
        "        obs = env.reset()  # reset to a random position\n",
        "        for step in range(max_actions):\n",
        "            action = policy_func(obs)\n",
        "            obs, reward, done, info = env.step(action)\n",
        "            episode_rewards += reward\n",
        "            if done:\n",
        "                break\n",
        "        final_rewards.append(episode_rewards)\n",
        "    return final_rewards\n",
        "\n",
        "def plot_policy(episode_results, policy_name:str=''):\n",
        "    plt.plot(episode_results)\n",
        "    plt.title('Cumulative reward for each episode')\n",
        "    plt.ylabel('Cumulative reward')\n",
        "    plt.xlabel('episode')\n",
        "    plt.show()"
      ],
      "metadata": {
        "id": "UFjuVrnD6T-t"
      },
      "execution_count": 41,
      "outputs": []
    },
    {
      "cell_type": "markdown",
      "source": [
        "## Testing agent\n"
      ],
      "metadata": {
        "id": "biLSA4z_9HSJ"
      }
    },
    {
      "cell_type": "code",
      "source": [
        "episode_results = test_policy(theta_omega_policy)\n",
        "\n",
        "plot_policy(episode_results, \"theta_omega_policy\")\n",
        "\n",
        "mean = sum(episode_results) / len(episode_results)\n",
        "\n",
        "print(\"Average cumulative reward:\", mean)\n",
        "print(\"Is my agent good enough?\", mean > 195)"
      ],
      "metadata": {
        "colab": {
          "base_uri": "https://localhost:8080/",
          "height": 330
        },
        "id": "3A7Ixl3Z4rZD",
        "outputId": "9644348a-7fa3-4cb7-aeb0-9153b7939146"
      },
      "execution_count": 48,
      "outputs": [
        {
          "output_type": "display_data",
          "data": {
            "text/plain": [
              "<Figure size 432x288 with 1 Axes>"
            ],
            "image/png": "[encoded data removed]"
          },
          "metadata": {
            "needs_background": "light"
          }
        },
        {
          "output_type": "stream",
          "name": "stdout",
          "text": [
            "Average cumulative reward: 500.0\n",
            "Is my agent good enough? True\n"
          ]
        }
      ]
    },
    {
      "cell_type": "markdown",
      "source": [
        "## Task 3: Render one episode played by the agent"
      ],
      "metadata": {
        "id": "Yg0DCT38lFA6"
      }
    },
    {
      "cell_type": "markdown",
      "source": [
        "Plug your agent to the code below to obtain rendered result."
      ],
      "metadata": {
        "id": "vx1awMr9lc_w"
      }
    },
    {
      "cell_type": "code",
      "source": [
        "env = RecordVideo(gym.make(\"CartPole-v1\"), \"./video\")\n",
        "observation = env.reset()\n",
        "while True:\n",
        "    env.render()\n",
        "    action = theta_omega_policy(observation)\n",
        "    observation, reward, done, info = env.step(action) \n",
        "    if done: \n",
        "      break;    \n",
        "env.close()\n",
        "show_video()"
      ],
      "metadata": {
        "colab": {
          "base_uri": "https://localhost:8080/",
          "height": 420
        },
        "id": "LYyavfbIa47D",
        "outputId": "544398b5-4631-4a85-bf04-492f105d203f"
      },
      "execution_count": 46,
      "outputs": [
        {
          "output_type": "display_data",
          "data": {
            "text/plain": [
              "<IPython.core.display.HTML object>"
            ],
            "text/html": [
              "<video alt=\"test\" autoplay \n",
              "                loop controls style=\"height: 400px;\">\n",
              "                <source src=\"data:video/mp4;base64,AAAAIGZ0eXBpc29tAAACAGlzb21pc28yYXZjMW1wNDEAAAAIZnJlZQAAZTptZGF0AAACrgYF//+q3EXpvebZSLeWLNgg2SPu73gyNjQgLSBjb3JlIDE1NSByMjkxNyAwYTg0ZDk4IC0gSC4yNjQvTVBFRy00IEFWQyBjb2RlYyAtIENvcHlsZWZ0IDIwMDMtMjAxOCAtIGh0dHA6Ly93d3cudmlkZW9sYW4ub3JnL3gyNjQuaHRtbCAtIG9wdGlvbnM6IGNhYmFjPTEgcmVmPTMgZGVibG9jaz0xOjA6MCBhbmFseXNlPTB4MzoweDExMyBtZT1oZXggc3VibWU9NyBwc3k9MSBwc3lfcmQ9MS4wMDowLjAwIG1peGVkX3JlZj0xIG1lX3JhbmdlPTE2IGNocm9tYV9tZT0xIHRyZWxsaXM9MSA4eDhkY3Q9MSBjcW09MCBkZWFkem9uZT0yMSwxMSBmYXN0X3Bza2lwPTEgY2hyb21hX3FwX29mZnNldD0tMiB0aHJlYWRzPTMgbG9va2FoZWFkX3RocmVhZHM9MSBzbGljZWRfdGhyZWFkcz0wIG5yPTAgZGVjaW1hdGU9MSBpbnRlcmxhY2VkPTAgYmx1cmF5X2NvbXBhdD0wIGNvbnN0cmFpbmVkX2ludHJhPTAgYmZyYW1lcz0zIGJfcHlyYW1pZD0yIGJfYWRhcHQ9MSBiX2JpYXM9MCBkaXJlY3Q9MSB3ZWlnaHRiPTEgb3Blbl9nb3A9MCB3ZWlnaHRwPTIga2V5aW50PTI1MCBrZXlpbnRfbWluPTI1IHNjZW5lY3V0PTQwIGludHJhX3JlZnJlc2g9MCByY19sb29rYWhlYWQ9NDAgcmM9Y3JmIG1idHJlZT0xIGNyZj0yMy4wIHFjb21wPTAuNjAgcXBtaW49MCBxcG1heD02OSBxcHN0ZXA9NCBpcF9yYXRpbz0xLjQwIGFxPTE6MS4wMACAAAACFWWIhAAz//727L4FNf2f0JcRLMXaSnA+KqSAgHc0wAAAAwAAAwAAFgn0I7DkqgN3QAAAHGAFBCwCPCVC2EhH2OkN/wOssgP2u3ziQ9Lz/xECJtPO+9ynNFVspMYsdJlJMUAGmOEfTmZawqTEBFzV5CLudRxj0dJOeX+qIXftIw8CBZl6njonOxfC/gtnhBlrxbILfyCCqyQAfaXixpukD6gUfvPtwlyTeu7gaq5Esmw1eKfczur2vgzEm7saHAa7PND38GYj56oZmzxBFmd7ZWXs6y3qDN3gCv9lreRyDkDhxIQSNRu/+zvDmvyMphrvIAJkSB6LqoaF5Wj+bHBKJWFngHqePfMIxSc+weDOq/B63BGN62SZk+3sprI+l+L/0aYwRyXFw9YaKfZuS6WwDntB61GzckqfgcupzZb8S3YyN/VoNus93BeTOekBgEtNLgcbpOKTbcUvvee4ceH/KnVmJZVi/4thGnVoIzubMwy61tPYSgzvyTDoPxQ+k8RuSjoc4wpCbqdCDxCAGKpsSWQZaqSMQRKA7d3JTHer9pnwRk2U7nWcUK2oGu4uQ8rM88BPZGwOD+MMJ4hHKSaZT5nhwKAOnYTsgEF4iRCxzlmuBQEHCxSHzr2Q2CCGgALW2vI7C0sVN34RK7n5pMLeBlP5Df8j7iENOkLl0DZFWEJYgxcWg6zt8tLAAG6FboAAAAMAAAWFAAAAg0GaJGxDP/6eEAAAGl37f7Arp1/e0uW3pkHiGMN0oANqeE8urpAAVtj5HwcEiiZ55EUJiDA9k/GXYV4oc7OyQEC+4nobkIGRd9lCRO9nSsIJYKlxi7OeoJi6XIyKlwn34LkDCesX13V12dJtL88sClPOnkg4UbrbpuSqWKd0kzdQJtUaAAAAKEGeQniEfwAACHAl2eLnM/As24mzHPhT7z0SQFIq9tkcK/drL+Scv0cAAAAZAZ5hdEf/AAADAAo4ygafJM9r4Of3NQzZgAAAAB4BnmNqR/8AAA2ElS6ADPEzX2QXfySVUVBBEKiYc20AAABhQZpoSahBaJlMCGf//p4QAABFRQTLTOgFaomCW/Idfd7pY44FxpGpBJJ6GgHBxgPrxmL6cyVqgB/uiN7XVeMYXAAV2WKQCGbIT0DS2oTq1JRtEE2Z4n8QO9ZvE44hJGrOkQAAADBBnoZFESwj/wAAFrUrOshyrxgrHqfULIP4UlJrvQT08WFAb/SYBB0dSIJXTytRNmEAAAAeAZ6ldEf/AAAjwxdoqaVT1Pylsn95QAZjA5H2I4ejAAAAKQGep2pH/wAABPupHPiLIfKghFeZv5WaGvdMRIEnQX6KpHv0AIpv8tbcAAAAOUGarEmoQWyZTAhn//6eEAAARVSpPuQBGusrAq4NFwJiUTczHseIAM7Qoc3AzNMHlEF9gUHD6CpTZgAAABxBnspFFSwj/wAAFrxDzbcWhf+e16U/7MAQuOmBAAAAEAGe6XRH/wAAAwHlij2AfkAAAAAYAZ7rakf/AAAjvwQnEslpmrhWayk0J6bgAAAAXEGa8EmoQWyZTAhn//6eEAAACaxPmjIAoXPTD71+So9oFRDXVf/pntDFfTkXEM45yYuaoF95EPcqiOR6Ef5WIyZ/sFehPpdvoNqtw2QDzlaPbfcPi4EtKpdaB3PFAAAAHkGfDkUVLCP/AAADAyRTCuXr0Rv2VR2coyJpnhqVtwAAABoBny10R/8AAAT70MIYbXEem569eS0eZpYSAwAAABABny9qR/8AAAMAGck8KHpAAAAAaEGbNEmoQWyZTAhn//6eEAAARUUE9y5wCgISHkvemuOf+uXhE+zm0ImErdB0P//cAd4GhKG0u5PMhu7HHsEkFjxjcYS3z2cFfw8E/9ZwkdcMYhAjGrodAT6hnlkHjzD+EwmVHD0yS8qAAAAAIEGfUkUVLCP/AAAWvEPNtxXMsLngXYNm9DS9AZ1da6oxAAAAEAGfcXRH/wAAAwAZvCfYmYAAAAAdAZ9zakf/AAAjvwQnEslprVkwDiZ7w8MOjZsD2YAAAABdQZt4SahBbJlMCGf//p4QAAAaV16AAQ+sMxCQrFVjQpw+5bk+uZMV01+g7TK8R7kougT4u6nhNXg2qKh428PpqChYI/HU6luZkr+YqSnh8/tG1W4YqLWEuIghEnTBAAAAGUGflkUVLCP/AAAIbyc1yWFhw3/NrBW5aQcAAAAPAZ+1dEf/AAAE+Fv2AMeBAAAAFQGft2pH/wAADYSdq2NZYFEMIqBhzQAAAFNBm7xJqEFsmUwIZ//+nhAAABpaVgXW2KjOwmDzaK+x+oT3W6SKGNAK6A9scnsAIP9TFt54PITUrFaA19q0byawfcvj3c1bZvGrB/LMc5492kSRgAAAACJBn9pFFSwj/wAACGwKoRjwDlWI4w9uHcSYRwSsuV0C2sWDAAAAFQGf+XRH/wAADX4S8yWPj+ryOhPVUAAAACsBn/tqR/8AAA00neTyJzsj3s0YasjeHv5xb0DKJeKneqhy2x4cnnHr3tmBAAAAREGb4EmoQWyZTAhn//6eEAAACbe/jZqflJRJOBU1RACby41vClPSkWffQj5r6Jb3fcUOTUCR913EI/vF19yOkTacd7PbAAAAIEGeHkUVLCP/AAADAyRSUYTj893uTcu7kQg0NvtJaOSAAAAAGwGePXRH/wAAAwHaRSGI0bpktT4i3HZXMjGlswAAABEBnj9qR/8AAAMB23/VbqA2YQAAAG9BmiRJqEFsmUwIZ//+nhAAAEVFCDQBPhWBB/CQa+w4hbKIbyBDFdD+kDSfs07OM4pXRrRI2HSRGJCKgmcUiVzCkMcUGqkajbeLiakdukZwnsU8Q5vz6xcUs2C+H3YBDvlK2SkMU+PClA+zv1XTlUYAAAAlQZ5CRRUsI/8AABa1KzdrbU1vc9EbmSMA5wNZMuI/jfxJMwP4MQAAACEBnmF0R/8AACOr+Ft4EqygBDvfA+AzAWFuSFkDuZD72YAAAAAYAZ5jakf/AAAFHzTVJfxNx1MOCD6PiqCBAAAAUUGaaEmoQWyZTAhn//6eEAAAGnDAKvEOgBH+JAtyxnbBwlVtSj1fj1Gm79hzOV/AxAYlnzScJtk1eUQOLNpYxCotxyTP9pxHuePPL7NNK7+sGQAAACdBnoZFFSwj/wAAAwM5MHm2+o1qIXyU+cjppf1n8AhUQKMblvaP2zEAAAAYAZ6ldEf/AAADAdqKQKtFqi2sVfqTgNUZAAAAHwGep2pH/wAABQ4Rtl9MXd9a7bY7WWHg05MwtqcSJUAAAABjQZqsSahBbJlMCGf//p4QAAAZt09QCnE5+zEuNIKrTRSGS8S8MvHvDqHkbKzuy5GnkGRboH8FDZVtYdKfyqmZ7+KZoCdqnp+SVFcf9kYuvocY4P4MMxU7+gBdYIvhxSjxNpCYAAAAJEGeykUVLCP/AAADAzhNaDfyUhlkQZk4V4K6zqHb7QMuNzn2zQAAABgBnul0R/8AAAUfy+6KCROME0BgO3Kr4OAAAAAYAZ7rakf/AAADABnJP3Ey4foCmvsVj2zAAAAAdkGa8EmoQWyZTAhn//6eEAAAGlkJ4Unh9XrH1R1pHXaABCLrKLivc5H+1QY5tpymS5AaMW1vQPQeDl5091+Vk5XT43a997DSN1B/M/CloTfqEni1FQQsrGWR2FWHSKkt3mrkaKS/EZYsni+b2WKXKtmijqbGRkEAAAA7QZ8ORRUsI/8AAAgtfENHYGyDRTG9IVwAA4zbA8m0VlHl4QjMLAdt0GRPhDIpy2IHwgEzgHzWB8EjO3EAAAAdAZ8tdEf/AAANNe8w/s1NIATTd7+01TkR5PKy5yUAAAAaAZ8vakf/AAANNJ6fd6BzukWGPsSE28jn8cAAAABuQZs0SahBbJlMCGf//p4QAABFaPFFj+gWOJfuhjTvtXyIPkydFHZBO5nupBN6X39JY1QkyCACccHZKsFPgTvY6kvK0GmDF+plbE8OWzImrisApWw66CJqNjiiZyurdLYv83jL2fRK2DAtPM3qPiwAAAArQZ9SRRUsI/8AABa1KzdrbvwPLXQnxHLSwM3LBDqYuF7AZs57pn5Z9HNbcQAAABoBn3F0R/8AACPDF2ippVSs4jVwOgy+IzLFqQAAABsBn3NqR/8AAAUdMA4blBri4zA6KkFA1zzIs5IAAABdQZt4SahBbJlMCGf//p4QAABFcy7Ppj0l7ci/jF5fWE5REOUcrf+WuabaQmKlQA6XUJqe6oexrGhaTO0f7tOIlzgQBlzohTTq+x7vQbFogiJapizKjuUwbkY9J9CRAAAAIkGflkUVLCP/AAAWvEPKS9GozGUhgMgYNkH6Ey2sibT1xbMAAAAWAZ+1dEf/AAADAAo/tD2DOjiJmNwViwAAACABn7dqR/8AACO/BCcSyWmtWTAOItVFCdp7kAATxBQCAwAAAB1Bm7xJqEFsmUwIZ//+nhAAAAMBY/wigAc9XcwB6QAAABJBn9pFFSwj/wAAAwBxYjSgOqEAAAAOAZ/5dEf/AAADAAADAakAAAAOAZ/7akf/AAADAAADAakAAABPQZvgSahBbJlMCGf//p4QAAAJqCbqAGubCu4E6ZIqWIMw13UqSjCqNA5HPMQlpEiQlqkFB9plTj4jRIjWLd97pb5yojZ9ENcxzesxMCZWbwAAAB1Bnh5FFSwj/wAAAwMkUwrl69Eb9c/O06sCJPCtmAAAABwBnj10R/8AAAT70MIYYuIe5TikcxkcMXtw7TkgAAAADgGeP2pH/wAAAwAAAwGpAAAAZEGaJEmoQWyZTAhn//6eEAAAGdDrMKHsKAFrb/f62EXxQkxVAeI+wd6ConZGozyx92ppeCCxqiKshElJoZnViglKsUyQzN7DLPVOrilimSVQ7OfTWBHvcQtiYmGMHbpTh2zt5kAAAAAfQZ5CRRUsI/8AAAMDOTB5tuK5lZMpKLxfhDHVDvD7ZwAAAA4BnmF0R/8AAAMAAAMBqQAAABsBnmNqR/8AAAUfMJZ7iS0zVwrPehofAIKVMk0AAABeQZpoSahBbJlMCGf//p4QAABFRQT3LnAOOWbi1Li6AS8IgkuicKn5GVxGqcNm9SACYkBUFv4GYNVKgNFmuEQFDG2F9Alk6aC8cCi0f7WfgRY2ZiZUWDTrLZ2iZii4gQAAABtBnoZFFSwj/wAAFrxDzbcVzKyZST52gkzdCm8AAAAOAZ6ldEf/AAADAAADAakAAAAZAZ6nakf/AAAjvwQnEslpmrhWUx8oPc+ZUAAAAF1BmqxJqEFsmUwIZ//+nhAAABpXq1wAX1vzGc2/8i6i3ifWlWG9khpCkraGX1g3DhT5yj7fGtj60vndoRuxei2KWuJl4baa9CunDVaTiqtfLyXhCf9tjOexrX9WVcAAAAAdQZ7KRRUsI/8AAAhr+uctihmOxYtYJmifMQKtbcEAAAAgAZ7pdEf/AAANhd0suW7idxNd8OYx1FxZs7clxJgPlJMAAAAOAZ7rakf/AAADAAADAakAAABmQZrwSahBbJlMCGf//p4QAAAaW3hXz4VhTkAF7WfcfdjldYwrkoeBPxeNbEFD0wODKjWmbdd/5+QJF+gjxJWPhm6l1EOdtY7d4WSEKV2wzkXpAF/J81yg+p7dJBeIa/f8hFwnlL7NAAAAI0GfDkUVLCP/AAAIa/rrvLL8znQR53yxComAZPAaOVhttrZhAAAAGwGfLXRH/wAADYXdL3bOLUGKH3iwx6TIpqVbcQAAABwBny9qR/8AAAUdMA4wYqHnnLhM77tBrZ2Jx7ZgAAAAUUGbNEmoQWyZTAhn//6eEAAAGd9RWOrlLXJRpzzkr1dQAEUEmCQfkM1sWsycTUqP068GGlrT7XaXVc7R8BTL4FrpX5fLDEmX5ajjt9wIUPHZIAAAACdBn1JFFSwj/wAAAwM4Uwm5kqjE3WrmijEEXApVx/0YrUW7XsXsZ4MAAAAhAZ9xdEf/AAAFH8vtFOgBUQEALbSkRmLrVd7hXOAmun2zAAAAHAGfc2pH/wAAAwHbf9V3nMfIoddsoJCh6E/ImSYAAABNQZt4SahBbJlMCGf//p4QAABFRQg0AVshSHKYjXcLVDiPf4Wh1SIzWgaP74ivIwQ45oAkwKzCGkwBtZfx7aO7DZILmTGZxd7UHlESbYEAAAAnQZ+WRRUsI/8AABa1KzeNsuwcpCAflL8VhY3aovPyPsL99FZi705IAAAAFwGftXRH/wAAI6v4W3gSnWgjiX/mrBZRAAAAGwGft2pH/wAABPs01d7biGqCSBvo8OgkcJGTkwAAAFFBm7xJqEFsmUwIZ//+nhAAAAMDtS18AAQqB1zWlSBQ8nvUBo3wLsMQY+Ac2tr4eUUuCXWEycF0cEsNChCnDfVyXJDenbf5YFp4WJ4vpyWzuEAAAAAgQZ/aRRUsI/8AAAMDNmhsS7tvBJKXpXM804b/qBofwYEAAAAaAZ/5dEf/AAAFH9DBzraNw1fYEVoInGZXbMAAAAASAZ/7akf/AAADALX2gOPIU6M/AAAAmkGb4EmoQWyZTAhn//6eEAAARWVB1qAWPSwLYvz1Xdfl4lIkjCHbmUFwb15xiUf/6QVLPi2AD29wV2lMMSCIqv4KOKum1hMcXQyrtB2oVBkHQENDYsfKsZElnWjan0/x0l4BtaS8s/yGoNX8p3T3eqqUy2ZKe8ccenwIE5AKzSSYSxnkzwZW8cojsxi2Ce1R4UT1Et76ZwFE8MEAAAAsQZ4eRRUsI/8AABa1KyniRiWIrx7ZGbQN/QAA3SJJPR62Cd4DjROhEXO3wYAAAAAnAZ49dEf/AAAjq/hbeBmcmgAFsP5sZUTiIrx9V5Qx2kH0gW9VtY2YAAAAGQGeP2pH/wAABQ4RzP6nOiyGeHIWHdP4wGEAAAB8QZokSahBbJlMCGf//p4QAAAaV6tcAOOCW6hWxgSIZh3CtoSpV9WGddJTNOoQyxpHXphGsbms1gtrmXLDKPhxNNAL/YyswjLsLtLh6KZXVme+AxCJ5DiRLFyrXNMUbo2EkhRdDsLYli6H2PtJO5FaLNUUatcpfc8I4whswAAAACZBnkJFFSwj/wAAAwM5MhbemoyJde/WEbTyHrszEGTBzkkS+40eRwAAABkBnmF0R/8AAAMAGvwrhRo2Z+Yy9dzR3MCAAAAAHgGeY2pH/wAABR81y+OBpuK1DeDkMbXSECGEWnV+kQAAAG9BmmhJqEFsmUwIZ//+nhAAABpbAMDXWDBeU/no/FaCzuluIZT+hEedzKWv3dQMQfAAlQAS1VNc0X3XNxsq1jnHEpx1g+Pd96TdVjF6aL5YAkK71MStKFqOcrp69wM6/o8uK3saO2zTuTd/akwmIXcAAAAlQZ6GRRUsI/8AAAhtgPq4h1PF14F7Ma/bZ+Jkjvs4xG8V0BuZswAAABkBnqV0R/8AAAMB8IoeZMx2cpwR2B3x3XzBAAAALgGep2pH/wAAI64zC4VP2oJIo3kH+HH8iDd3vj1D0i7hwAQrHtpk9D0qiD92JUAAAABmQZqsSahBbJlMCGf//p4QAABFRQXvV33r6vvdlLiGtIg18dAEG3Tpy8Cs9LlhN4H8kE+Aj0V862Ak+ZsMt/II88O/LNZ/h5JNFs4AKe60q31sIrSBPdkmXzLNnhYIOOc/hyVTRouAAAAALEGeykUVLCP/AAAWvE6Ae3Rttj6ilIXVjeMrnuT4Up+B9sCruYp5oQsxrsyLAAAAKAGe6XRH/wAAI7jBF9SeFZq5/q1giAjrWNuhXBfR4m4/M/ZbeZ+TkWAAAAAbAZ7rakf/AAAjsisHEzjhqCcuHSKST8lHaEcEAAAAZEGa8EmoQWyZTAhn//6eEAAARVEJeqaiqZ9pnm2uxogL2DMJZ+tz+YYW40vZgi+nJcAQA932V2EuPscUOOEvZkjkpMGMmUFkGYTadvNejQfjpmusU0+tS09+xqGrbdetUwpfC2EAAAA1QZ8ORRUsI/8AABa8TcZAwi66QyDM0AFehiF42pmwSFAm7OpSAYZmttpJ8EjfXnEVngF7QmEAAAAnAZ8tdEf/AAANh7Wo2Kap6QP7s+Ya8TrqS+JkpV0x2EWR6+ObL79JAAAAFQGfL2pH/wAAI78aznveCbZirVCggAAAAENBmzRJqEFsmUwIZ//+nhAAAAMDueorFawNM4CrPTpJioUc541+zYAi1PVSOLLDL+jlIUU//i1HvG02I8baNyhnYhrgAAAAHUGfUkUVLCP/AAADATWBQ8is74hkxGoTxBj8HxcjAAAAGwGfcXRH/wAAAwC6ehgvoDZv8EP3lDCJ+M22YAAAAB8Bn3NqR/8AAAMB4LCtb00T+ByglHYEmCtsQDK0lHIwAAAAI0GbeEmoQWyZTAhn//6eEAAAAwAS0RadmZMklPE5em4vyleRAAAAE0GflkUVLCP/AAADAAJa/rsEbMAAAAARAZ+1dEf/AAADAAO1D7X1WUEAAAAOAZ+3akf/AAADAAADAakAAABaQZu8SahBbJlMCGf//p4QAAAJ8wVNAaZOmmgA/bgAz6mdGfgbCkVStyZg/F9lvqDiz3/kHV2FZ9pabBW4Q5+TyLTHeR1azG75BCiR+Jn9eHwf3bV5iaI1JLmLAAAAHUGf2kUVLCP/AAADATWBSbg2oHtnWto68MOMBMVBAAAAGgGf+XRH/wAAAwHmsbDxjZCJFRa8yEXZBmKgAAAADgGf+2pH/wAAAwAAAwGpAAAAXkGb4EmoQWyZTAhn//6eEAAAGlFfAn8AEentEdXyxV86c80M70PpvFa+zIwTYWQ4zl3AUKu1b2i2l5I9y7JfDldgPtNyZhnK7uY2Kkna3cSoq8qOFce9dzKl8wRS4IEAAAAeQZ4eRRUsI/8AAAMDOTHNmXaTsWKHJ931o9ql22TAAAAADgGePXRH/wAAAwAAAwGpAAAAGwGeP2pH/wAABQ4RzP6nOipFkckXPLKK4m7dkwAAAGxBmiRJqEFsmUwIZ//+nhAAAEVFCDQBQEHsSfFBFO4V6/Ja/wzqKMCecJ3Gv+Cmk/3nAHnxw3XNWyJqoh5g7heU00xE28UzZj/K4aMuFmCqXeq6Lv7fBf06cg4ls7Bwzg9ucfvJQlO7bF11FwcAAAAXQZ5CRRUsI/8AABa1WFWzwm2DtYgLOl8AAAAVAZ5hdEf/AAAjwz4OeNhPQqvOfj7gAAAADwGeY2pH/wAABR+X3sAYUQAAAB9BmmhJqEFsmUwIZ//+nhAAABm6Vl0K0zULEG6n8ZonAAAAPEGehkUVLCP/AAAIb+IxJvpdmRTy6j8tWpraPteaABwOmirKa2wgYCSigVWvIqhr77q/U2+iOM0RJ6PtuQAAABoBnqV0R/8AAA2F6vzP3+8vIyzfxb2v3tYgIQAAAB0BnqdqR/8AAA2EnattU0tyqOmkYVC36SAo373JMAAAAERBmqxJqEFsmUwIX//+jLAAAAoXsPvo6Rt6FI/qR9cBWMJL+c7J8/1aUACtFPBt+Uamt6qlryNtjug0tgEn4PtdP5KecAAAACBBnspFFSwj/wAAAwM2g/bMYRSdqTOtHtF7dafhM9PtgQAAACwBnul0R/8AAAUY2eO52iPMJfUAK3BL+ZmDdree3GoxMymNUt7/ftskdE5zZgAAAA4BnutqR/8AAAMAAAMBqQAAAEtBmu9JqEFsmUwIZ//+nhAAABp/UVitYGmcBVmqeRgmTNMxyUJNADVba79KsHUPudAtR7ahFH5vaz/mKiK/lP+Xm0O8hHGlP+jpsHsAAAAeQZ8NRRUsI/8AAAMAdvcNtwWYgrvSFlTTnbH5AYqBAAAAGQGfLmpH/wAADX/WNMTOOGrr5QL8QWZarYsAAABdQZszSahBbJlMCGf//p4QAAAJ8fCvtQB7+LD066oAOnEBHJYdyPHa9sy53ppn/oB14NNcKNCvY0UhCKBrUQPywNlyZZWWST59uoUzCy/z+Ntzzg98f+ncLVQWrP+AAAAAIkGfUUUVLCP/AAADATWBlwoYqWY7AAQl2WEa6i/m4EsL+xYAAAAbAZ9wdEf/AAADAeWKHmSx9rxZRR3ifHOpRlCZAAAADgGfcmpH/wAAAwAAAwGpAAAAa0Gbd0moQWyZTAhn//6eEAAAGl64mrlxelqYACcos1LeHT+G9bSPbLewJ50eHfr9WcLWntpHcgbt9zYk+ykg8T55DrcAz4JQuqGI4QKlIQ53XjLgSeC7wKtsU+YMjccFILXtd4lA17lVN0Q+AAAALkGflUUVLCP/AAADAzjJ06k1ChCKQUmh4KCKkcmtMhkBfAMKzd7HYpgv7CmTHuEAAAAdAZ+0dEf/AAANfhLzJY+P/osxN6bmPOLiZdSzVS8AAAAaAZ+2akf/AAAFHnDZFEG5QivRA3hx/XRRakEAAABnQZu7SahBbJlMCGf//p4QAAAaWQRa+3F4vCNb722lagSS/eN3tKk6rK/dMvdAfztFrpGQfuvpV0gMvAgZVx5i9QMKX0QW5bzhDW6+scBC0gMIxLDiJCkLwJ0fcMzjxHPhVNR15TNz/wAAACBBn9lFFSwj/wAACG8nQfmPN7L2HLGrKHhrwt0rSESRYAAAAA8Bn/h0R/8AAAUcW/YAwoEAAAAbAZ/6akf/AAANf9Y07AgNBTITTLJjP5pwmtSAAAAAa0Gb/0moQWyZTAhn//6eEAAARUUF7u+Dbc0AJNlMw6ZjyeEwZFO6w2tJCAmLxZ75Bh368c8ILBL5ceuvabpcoLCeO7lkBLFFXmQWTGvA2wuoGaxhYPO1lsDxEEbUJQ9eUvadbsbS+qmC+cCBAAAALUGeHUUVLCP/AAAWtVhVrwufPzkbVBKOqy6PZWLLs+2PMFwoB8CncoPWRkEoiwAAACsBnjx0R/8AACOsOQWu9bDrBG++sovWV9Px3PtBU8gBI8XybUWHLYn4BPD3AAAAGwGePmpH/wAABR1AleqQWagV3obe0ibUVyLUgAAAABtBmiNJqEFsmUwIZ//+nhAAAAMAC517z7wLMg8AAAAQQZ5BRRUsI/8AAAMAAAMBBwAAAA4BnmB0R/8AAAMAAAMBqQAAAA4BnmJqR/8AAAMAAAMBqQAAAGpBmmdJqEFsmUwIZ//+nhAAAAnvA4rB2/KAAgbMIAgDIaCCbVGivRqiHIsD+Wy5ge42v22CTzMAMEgBnDqQwAu++9hY/SY3ZE7wfnjYNXIu7ciZwyQXXX8S+AvCNb7pWFRGTBAJCQUz9OVNAAAAIkGehUUVLCP/AAADAzhTCuXsUZoonTEAPwkKl6sK79bVq7EAAAAbAZ6kdEf/AAAFHFt56+jYWi8lcE5v1a+cItSBAAAAEQGepmpH/wAAAwC6Zpq3UEXBAAAAS0Gaq0moQWyZTAhn//6eEAAAGn/kQQAZWKvYVwjCJYMT0MuX8njvMBJ+vpsQRdhWhThryau4lF906o/Su888tHk5L1lnL74tsGHdpgAAAB1BnslFFSwj/wAAAwE15OoVy1StpmfTXTw6Q2K1IAAAABIBnuh0R/8AAA2CG6O5C2PoMeEAAAAvAZ7qakf/AAAjrjL7BwoASXfeZ4RlAhV4tAKcZunns0MDHc5lVaIpqg8RjdbWFqQAAABNQZrvSahBbJlMCGf//p4QAABFRQXvV8LQA4HIzJoHDamcC8XFI9oDvW2hTwRq6AjFYyE6DhYOCSgOyR2Vlp5oIFKJ0PrWDiwiusKYzoIAAAAaQZ8NRRUsI/8AABa8TgLlJYyFnWbui8nuJeUAAAAXAZ8sdEf/AAAjuMEGuyO/6Y3j9jJ5Ek8AAAAWAZ8uakf/AAAjsisHEzjhqCHaWzLd6QAAAHNBmzNJqEFsmUwIZ//+nhAAABpRXvp1ADatw27EGMFXmBwWbjA15HUCwmOwgE8H2Bet/QCzZTFOIpRSrslqCxaxd9kAGCA8QODNGLtBQ7/MaAf+T5igB+W9TM7sjz9dFP1jD6GZlvkzMWDd0KeuoUl3nOyAAAAALEGfUUUVLCP/AAAIbAoeRWcf84L8DBbrajXhxhJ36AA4SXAZMgD2GWhcLj+kAAAAHAGfcHRH/wAADX4S8yWPj+sHCjYq7ecU7IaiJUEAAAAYAZ9yakf/AAADABppP3ExCxov1Sq3SRswAAAAcUGbd0moQWyZTAhn//6eEAAAGmHCuesQBBJKdat0eawMeYhV7D9uVd+fipCuFbjFd0sfjPxNVTmqwaa5ly+gar8r5lcJUKRkIls+spE0A8JrWdhUEt6zfM4JaNbNT+fNPdCRuzeAriXWUlwAwXAiy1qQAAAAHUGflUUVLCP/AAADAzkxzZhUlAAXSko0kLMH/73RAAAAEAGftHRH/wAAAwAaXCfYlYAAAAAjAZ+2akf/AAAFHT5g4UlVFec0PYq5a+q8Um+x2JijoYAse4EAAAA6QZu7SahBbJlMCGf//p4QAAADAWGwtEIPY8mhFSrJIvXtpB68m6EmcXKnGAIjNCD0IssmtTEgyNshgQAAAB9Bn9lFFSwj/wAAAwBxQIwb/VqjpmjjwocDgmCrHcCAAAAAGwGf+HRH/wAAAwC1i56oYQWarHWdtmoI5LN9mQAAAA4Bn/pqR/8AAAMAAAMBqQAAAFtBm/9JqEFsmUwIZ//+nhAAAAnvBYFQjw9n5lIIAA6wprc+VadUaQvEiNRqyN7CeVHuY7/YIDVtJ6BYLUIQuYcgt1yxCCPpkSnGcotQCgyeSJgkwbz852eiyt45AAAAS0GeHUUVLCP/AAAXQyu1BPClVwBxKaJEnoOr7LbwTB6J2murPKZ7pFduu0F1e3ZkQuzml9cXDnlUVAL/E0CVXKbPUUUMSY/flEPtgQAAABsBnjx0R/8AACSr+Ft7ElqNw2Psgd0HSfBprj4AAAAuAZ4+akf/AAAkvwQnXm2orUB2XmGZyCvUJOzJQ+9lnjA5mHokuqlwPKSuCuCnAgAAAHVBmiNJqEFsmUwIZ//+nhAAAEdR9gTQBHNocHvgLMBy9c1xpQxeyecciUrrkK4qkxLcC/nlEb/IF6BKvuMGlKKbz9yDbgAgy28NcNBbClkK3QzV7R0PbI5e2WqtPS7g1obk7c6GHH+t9ozLSLLHBg5iedMHFkEAAAAwQZ5BRRUsI/8AABdFKzdjcnLjGkoGTEFAB5TsNNR/1Q7UALHp1D14hX0eBJaK7ECTAAAAKQGeYHRH/wAAJMMXaFYqtACWhz2Bi5ZnHgIBchH7kAVRMlcTxr7J0ptnAAAAKQGeYmpH/wAAJMe9ixmqAaYlsW+cJxxE9fVtdUryoWs01eV1l4Cl8NSAAAAAREGaZ0moQWyZTAhn//6eEAAACf+z+PCXLznaHJ7B9oxudIWOH2bEKYA44xKYkwAC3NGHR8jWVnJHzRKS2SYD8Ci62kR3AAAAIEGehUUVLCP/AAADATHitsT+ZpXmv9li1h3Rds7Ulj3BAAAADgGepHRH/wAAAwAAAwGpAAAAGgGepmpH/wAABR0+YbdkZ20XCcm+/tu1akWBAAAAXkGaq0moQWyZTAhn//6eEAAACjSqAQmUN28gAIkhRVPRvWxvdwOFlzQJ5D0L+lLzPZs5hUegMgiLkfdxQrDlkcBlU1m+Oxyns87biCq/SJ3R7u5ilvo9DbwNegWenoAAAAAfQZ7JRRUsI/8AAAMDTTHNmFSNqwGTGMcqGOGBjJnXgAAAAA4Bnuh0R/8AAAMAAAMBqQAAABoBnupqR/8AAAMB8M1F1U3BVrCytdsboPbXgAAAAF5Bmu9JqEFsmUwIZ//+nhAAAEdFCDQCuFNfw+GmCakka4laWQqR0dtrOaEnG8VNMkfrY/JOAs5DhKr3pH5IwpE88ZnoCrvE04YajF4apXFuUm4Z12aVjQSAtWLXfKHIAAAAHkGfDUUVLCP/AAAXRSs3a1peuKKDwz8bUA6lVV1d7wAAACwBnyx0R/8AACTDF2ZcZelpSiAAlinzn3qftLDeFf8Mazz6ah+WIcAao3lHXwAAABABny5qR/8AAAMAGmk8KHdBAAAAYUGbM0moQWyZTAhn//6eEAAAGvRT2EUACw/Txro5A9STO1yxh2rIAYGvtjK7qNcxY9yUjqAmpiYseJSOQs++PjePbT3hIx3b1vAtFaUqQrESvpfWk0O63CTeIKHArY9ZYjYAAAA+QZ9RRRUsI/8AAAMDTMnTdTwC70Y7zk7EAN3UDmvAtZrZq95AyQpK9ZJ5xuhj0sgDCYcqEo9FtpGpWDQX7XgAAAAcAZ9wdEf/AAANzhLwzUPFWsst/X7bwLHf6cSmwQAAACEBn3JqR/8AAA3P1pxlJd744sZaNCkKxFo1hb4DcFxyRYAAAABqQZt3SahBbJlMCGf//p4QAABDum22WXjxVDRoAOZ3lWXusSV0uTfgrQvjo4UcMcXGlTUHHJVJiPg0whhzABNKrnhWYU3NOMm+/95wTaYsdXxJ20Ac8pDdB7bQiPEoxAC7ui7dpR3Fw3uDgAAAACZBn5VFFSwj/wAACG8oW8nxj9FJCono68vwTS4V75H4R27igr3ZFwAAABEBn7R0R/8AAAVAUmm1RABQwAAAAB8Bn7ZqR/8AAA3PtpYzgyJU8KwgaAmMC7qcL1bL3ztTAAAAWkGbu0moQWyZTAhn//6eEAAAR0UEy0zpyABKh1hQ8mx4BNnDPYo4bBd8T8PGW/DDqA4mKB1prZkm0blPQmJ0RuLfomMxC+QwHjX6Ks3LQSgNIsL6RxYDA2IccQAAADZBn9lFFSwj/wAAF0UrOj1UH99cAH81jKL66l6BT+6i86lcftKEpVKwAfLCvMNggIQLxHWCw4IAAAAdAZ/4dEf/AAAkwxdoqaUfu4DUBfujSr/Hj1imXqUAAAAcAZ/6akf/AAAFQTAM6PWHxRWTMpRGdHo4kZCRYAAAABdBm/9JqEFsmUwIZ//+nhAAAAMAAAMDPwAAABRBnh1FFSwj/wAACKl3iRApCwAC2wAAAA8Bnjx0R/8AAA3OE+wAjYAAAAAPAZ4+akf/AAAN1J4UAHHAAAAAWEGaI0moQWyZTAhn//6eEAAAAwPKZtCEUAGPLuikzZhdAcw0XfP1ZoW1pAlfTtGZuViPGHug/u/6NJvOMDCv2hphrgu0rOWSlM1YxtMnaVWm0b5ziZwLMsEAAAAjQZ5BRRUsI/8AAAiScInWZUeBZP+Yi0PcCx6wMH1epEXuTggAAAAaAZ5gdEf/AAANzhLzJY8JksiYbA0H6GIsbIsAAAAeAZ5iakf/AAAkrjEv0i+TqVYRgTOpl4V2lvJzbwScAAAAekGaZ0moQWyZTAhn//6eEAAAR0UINAH4rVrofhLLkEVj4nI2O1GlP2MkNqR+Vcj3sO6tKVVLcR3vmoRrhzXGPxm8wbf85gcNGfGtdaXep2kr4Q2dbkWrbIGQv2KyD7Vml8ucNxM4PFudBsx4uglmOyDTee/vtmnhODrhAAAALkGehUUVLCP/AAAXRSs3az45q2Zk15HfCFsnS/u3ADdaxPiVC8Mtw3O5PKwX/f8AAAAXAZ6kdEf/AAAkq/hbeBKdaCOIJciWHhEAAAAgAZ6makf/AAAFQTAOK70gTnLZMDu7k6CqPL04+OJcu90AAAAwQZqrSahBbJlMCGf//p4QAAADABRrQLzh7S9drbYIARmwuEeQXv+T9MrMIuu9sc5jAAAAGEGeyUUVLCP/AAADAAaYso4sb2AIPMK+BAAAABYBnuh0R/8AAAMACoDKBp8kz2RO0PWPAAAADgGe6mpH/wAAAwAAAwGpAAAAgkGa70moQWyZTAhn//6eEAAAR0UE9y5wCgzhvtR702Yx3ecaQs2pUi+XnYx1vNP0AmklhF4ZeLePXQmHIxHa24k7DXtYryRsytv9ZoUPJbpW/DtsBZIEfYTEgna+g0Cdyx5GxVZ7j/tOOpWxPmVuirr4msbpKLBmBsit11mWnKYXBkAAAAA0QZ8NRRUsI/8AABdMQ823a5/N9R2ioKbzqrs855thU1CbM1FDmQzUU7hO54y+CR9rWnDrXwAAABkBnyx0R/8AAAVAUmm1JOEAGzJR47uPQUXBAAAAHgGfLmpH/wAAJLHMCW+pb7IVW4VMSbwIYL8wuPZOCQAAAGdBmzNJqEFsmUwIZ//+nhAAABr6C4o9tBJInQUsDP4B4gecqEexvugy0qI/NJ/PXITYgFKqMAWGeVE7dOacMZ0voMcfD55LLZAa6Znls2XQUiLSHAwk8HvCGPipyDDQLY/zJItHonC4AAAAI0GfUUUVLCP/AAAIryHm3DwmO6OWjIh/C6OfdgulGFKyX5a8AAAAEAGfcHRH/wAAAwBHXlgYIGEAAAAkAZ9yakf/AAAN1JUs+JOE5DB/r6NW937URn1R2IgaxeXpXrtSAAAAWkGbd0moQWyZTAhn//6eEAAACkez31+2xVVwpP3pMYXfL+gDQYcrRdbAFK3/QqKS3pj9v7HNTXhjVI4uP4VsH/gnRXJgRYRY9cgy+N5dHCy71Q3rHysRz9BmwAAAADlBn5VFFSwj/wAAAwNNYWBax+DG6e5FCDcULqBKQAtCL1DQjyASPJvi39YaE+zvqo9P12GBpjyA2pEAAAAXAZ+0dEf/AAAFQFJptSUFx9By99ZJ0qoAAAAdAZ+2akf/AAANXo4TEz6kuAF6NbykGNs9ooJP+cEAAAAnQZu5SahBbJlMFEwj//3hAAADAAE03OehFaRoucPQfcWUGh9Bir5hAAAAGQGf2GpH/wAADV6OC75U/bWVkpU/R931WvAAAAGkZYiCAA///vdonwKbWkN6gOSVxSXbT4H/q2dwfI/pAwAAAwAAAwAAFbekZYZCdC/yYgAABXwAsgXYRISAUsbwqBLaifhHkFICfN0CoW8FaSeCDkrP9s2Rarr32VHTF+UCXJJ/o8kVmKPV5/ZKwvsjYb+bjZHmrbRpAtXQX2ch+PkD65bDihHBCs8ZeSg/v29rHLNOOJW+8Nv/AiZIX7nML4y4KpDpKP/eG+NqZTWDX2M3RMgABTAqXMEonaqg/IJlOFAcYli2sPZMm8UsnKFvwHIeNBNUPMFi9V0sAHHYaYhO5GK0skQGF+7ZhyXwpHeD5F4nL/tV5Kntzr1FWalqOnf+p797psAaq00+RKqk8NwcpVyMqXTkRbCCvOeqRfviiKYsqtm3iUl5QOncnNnfoZYUxRpEC41F9AIerNcYDnuINGiB3Z8tRXYrFQ8Ur4Zm7bFdkrokTGbkTOUNG/Q2AgAJVJJc9QY7GufiVqvEyyChTou2V10rMp2dwmZyxHYC8xZ6LeKx2xjWEx0DPzL2//zp0NneL6FMyBpgAAADAAADAOKBAAAAQ0GaJGxDP/6eEAAAR0sQaAJ8KwLNuFvIKghucZO+DmsCmAc5xhc8qoI3/eyZRzhNDjm/Ct7xRHBj8IhspPV7YaVb/MwAAAAbQZ5CeIR/AAAXRSs3a1peuKKDwjCwOdzHmocFAAAAIQGeYXRH/wAAJKv4W3gSrKBmvcE4pmriuUDeLst47WIHBQAAAA4BnmNqR/8AAAMAAAMBqQAAAExBmmhJqEFomUwIZ//+nhAAABsQwC3Cc9gAWWNSh4v6lIuMTtcBQOvwFyytD6SAjwA3+Eoaa5nasggHa9CrSUL0OSwrRdn002GNeQwQAAAAJ0GehkURLCP/AAADAzkxzaNbkZKJCyU+5VPJUfd1B4xUY7Ww1tT97wAAABoBnqV0R/8AAAVD0MHOto3DV9gRWgicZldqQAAAAB4BnqdqR/8AAAUyEbZeIeedgZX5hhrBOKy/Xsqu1qUAAABBQZqsSahBbJlMCGf//p4QAABHaPFFj+0xVa2RScOggCddiFP2KG4vCDoZg8EX7Ycnc+Rl6wsX3jEKxORKLyxZujwAAAAwQZ7KRRUsI/8AABdFKzrIcp2TnGPoGD38wA4tpm+Llq8AqXOQMC++QP+9DDF1/mFhAAAAGQGe6XRH/wAAJKv4W3gSnb7qzI8duEUUm4EAAAAdAZ7rakf/AAAFQzCWEbsi1doDme3My8Q2uHe91qUAAABnQZrwSahBbJlMCGf//p4QAAAa9FPciCATX44TX1wWTC5P0xbQVWvtpfXGGwAX5NGQt1BWihjWPLkPmmTuNwZPM+kQOnfgZ8woP647jN8mGBelaN3/aQ4xXcd2mmNobVldeNS7OIyvwQAAAB9Bnw5FFSwj/wAAAwNMTWg38Os267WIGZQ0kcUwoaOCAAAAHQGfLXRH/wAABUPL7ooJFxB9LVkVYYoDw6AR8kWAAAAAEAGfL2pH/wAAAwAKzmoUk4EAAABMQZs0SahBbJlMCGf//p4QAABHaMZ9K/OhoQKTywXEPqgUurdcrl/dMVchLyM9snvmsJk1E2Xp9o8ZuSmEZDnYtfzSKXSKKvJP3UWkTAAAAD1Bn1JFFSwj/wAAF0xDzMfMVPVku5nL9GAHFtNRYcJC5ETKv4dpDz1ffYIW+2CVSa9GOSmXQO+xPg3VEjkWAAAAIQGfcXRH/wAADdHRTO/E2IZsn+3jQw2pYqwRTI6D5YSWvQAAABwBn3NqR/8AACS/BCcSyWmWjS0oYI3nzMwI8uU3AAAAXkGbeEmoQWyZTAhn//6eEAAAR0UFFODOAUA+bdnr+3/JAvG4m3tet3K0vC9l6Y+Cgn7kyDfGntQhl2f0mYuCuZ0k+fhqjkbW1Pt4PUl4Ht6Yznd93Q53I14s4C+tYcEAAAAsQZ+WRRUsI/8AABdMQ8xj0ZQAtpyVEoYTW2D0tRckNd2KzmcwP0xZpn+mRYAAAAAlAZ+1dEf/AAAFII458RpWaCT7scRpPGneCIjhtkpm8YDRspAdeAAAABkBn7dqR/8AACS/BCcVwn1caepFr54UpxxxAAAAWUGbvEmoQWyZTAhn//6eEAAACe0HAVOt2KgAAnbfnGKuaI0cGbnKbZjUTPa5UJnkOFiiAjjY9juMBXxL26S868xngap0frMrSzfhTx7ddbsX3U0AgeiAkjfGAAAAH0Gf2kUVLCP/AAADAzkxzaO3lnEjvUs51NopW0dMPcAAAAAOAZ/5dEf/AAADAAADAakAAAAbAZ/7akf/AAAFHzTV3tuIaoJIG+jw6CRwkZOCAAAAX0Gb4EmoQWyZTAhn//6eEAAAR2VBrcAvThOOb0dtuLVEKS8ozETYJgHtes5nXaxTIx/j3pzjfC3yRGrsVbYeuMfwLQyQjnL34B8XDJeXWhuWPDGYfPnFIhQN9uXFnLuBAAAAH0GeHkUVLCP/AAAXTEPNtxXMrJKhCBfhgXktuQx+RcEAAAASAZ49dEf/AAADAL73BMRCOgccAAAAGgGeP2pH/wAAJL8EJxLJaZq4a+3Ad6DWCO6BAAAAXUGaJEmoQWyZTAhn//6eEAAAGvdPUBA0bQ0ZTUihKoU2F9xFmoesjvPUJjBz/mnXMOmHO7bs0hWX2lO2vMcaQQh5gUDERGqyonOIyEqpE4FOs0SQ1NjhPoKTEU+gQAAAAB9BnkJFFSwj/wAAAwNMTWiPoGLfRdObjZTZjDoKkHuBAAAAGwGeYXRH/wAABUPL7uKvK6Qb7D9ojNnnKxylrwAAAA4BnmNqR/8AAAMAAAMBqQAAADhBmmhJqEFsmUwIX//+jLAAABqKs2C0/dang2ZBoL/klXT9ujFgALQIRkoC+Rvk5fw33dEkUroekAAAAB1BnoZFFSwj/wAACGwMtMoXnI6G0RVQa9TnBZbteQAAABoBnqV0R/8AAAVDy+0X6Pbh/3J6Piv1WKI73AAAAA4BnqdqR/8AAAMAAAMBqQAAADlBmqtJqEFsmUwIZ//+nhAAAEdlQU/RWR9LTDdoA9ez/2q1S3fI6MOxvS1bkUumlO/rFrcF7mYYmsAAAAAfQZ7JRRUsI/8AABdMQ823FcysmUk+B0KKy4ee/9RyLQAAACkBnupqR/8AACS/BCcToQ4cnmCiT+/VWZZYIP1dgQlH0rzECZha08qJwQAAAFBBmu9JqEFsmUwIZ//+nhAAABpVuQzo+z9e1MV0AGls9YIdl3qcRNNBXduec5Jg30MzFYVmvSlI2FU7/3ziz0t5TChVEIGOcclrTOLPtjTWpwAAACBBnw1FFSwj/wAAAwNMSpp25xqzkH9DwGvv5xhkQY/trwAAABwBnyx0R/8AAA1+FcJ0BIxJQoQa6OJWKhm6MhwQAAAADgGfLmpH/wAAAwAAAwGpAAAAcEGbM0moQWyZTAhn//6eEAAAGn9RWOgk9pwJ/R9QAfPJ42GE6Ck/bpgEONDKB+EPWblrhqiCvcz65Vfrr1VKgIMZqKVQEU4NFE5Ra8iD0VPETz4OZLav7m0FMoV7VzczFLPBpcQuM2gP587IgYUJhV0AAAAmQZ9RRRUsI/8AAAhsDLb+7F2NnjDnx0m48/VUdoZDJyaXYI4iZFgAAAAbAZ9wdEf/AAANfhLzJc3zwUEb8wxWHtrDoLIsAAAAGwGfcmpH/wAABUE+YOJnEt6FOXaKuyP2uD8e4QAAAEVBm3dJqEFsmUwIZ//+nhAAAEdFCSAAaWfskPi1++k+85tSU718t1XdIU6LhLvzh8OW3DiVmPQKG5p+g69BUaQ6m8PpCf0AAAAiQZ+VRRUsI/8AABdFWFXlf13LfTyNEC+CvzDzCJiaJ6MoiwAAABgBn7R0R/8AACTDPg542E9Cy2mr5iaOwcAAAAAdAZ+2akf/AAADAfDNRpiZ3hPi8HbKiPlJpTK0LuAAAABZQZu7SahBbJlMCGf//p4QAAAa8VurukrJAAOx3lOXGvmujEHcVL8AAJoXrADbRXi6t0Jm/TO6coO4sILr9+tSZcHLKvXc4vHRsevccQWnDu2z5CstxQUd/V0AAAAxQZ/ZRRUsI/8AAAisCKTOgi3NrLUEANw8ezAECtmax3qfv0bHjahEY27zdvYH0zfobAAAADABn/h0R/8AAA3OEvMlj0rK21gBpL4VgxTsib86GTAADWjnybHL/Olxt3tryIu2XcAAAAAaAZ/6akf/AAADAfyADxgUxHfOJ5cVWTLp1H0AAACoQZv/SahBbJlMCGf//p4QAAAa+QeRaAAnVYWBda+bvmjtj3OQNEuzSw5UDHpvR5o/jrdsEzd4McDujCZAApfk1BMZ82DcV2f/B9Y48x1n4uObHo3gPDHKYUObdMzfb80abE2e7IDdByROokCtJNZ9NtBRs+rIApLRd8XGGwlDaAUceSHhAL1DtZ53jlygCG/aY2pEIFiQT5ogefSntclsUVmJpT04zBG4AAAAOkGeHUUVLCP/AAAIjZ7qoj31DHUs+QXXi0rYkbuUnQANSJqQxzwPuq0Vbr+EtwG1NfaJtzQ24UVlu4EAAAAfAZ48dEf/AAAFZ8cJiBPyw4jQDPUPjLuTX+X+NcAakQAAAB4Bnj5qR/8AAA3P25AUeL1+IzGUyPYjq6vsHCjYS8AAAABSQZojSahBbJlMCGf//p4QAABHRQg0AOenXkgMOBfKQ/osbG4/tPRzGOIdAsqqAxramDjRFjjkk4kqHU8nLoOwFKF3DzqQHjsg8THbA2Iz1AHIPQAAAChBnkFFFSwj/wAAF0xObR3bG+Hume3iWl+Ot0yAwC5qAwfUPajj73ScAAAAGgGeYHRH/wAABWRl7cRPWpUo+BZzJkB+UCVhAAAAHAGeYmpH/wAAJL8azzg3JxKOOXEkr/tE8O/6NScAAABKQZpnSahBbJlMCGf//p4QAAAKj7v1UAUj89VP+TJb1G8Y/BhnqA82UAINgAVFJsr59/Snq/42aktTN1iA4uf60uCU2bsBL4QMtjwAAAAhQZ6FRRUsI/8AAAMDYE8xrigYkf0CjrS/XA5488qEpP9MAAAAJwGepHRH/wAABWRcAXd0A/DNXmZ74KIDgABrmm4Nli+wAYhLSawpIQAAAB0BnqZqR/8AAAVBPmD2mZibHZ+Yp6Ji8ZO0DoxxdwAAADpBmqtJqEFsmUwIZ//+nhAAAEdFCDQA6RheWazKmokGfXPj/4mHalhRBjWppRAbIJjyjDUn/oyQRlZfAAAAIEGeyUUVLCP/AAAXRVGgcoonxm2dRSV7wcnb1qVwv+LAAAAAGQGe6HRH/wAAJcLwhe2lJQJClt4+jwFMK4kAAAAXAZ7qakf/AAAlx8h4v8MLqgmBesEMg4EAAABnQZrvSahBbJlMCGf//p4QAAAa+nelAEensKETXYntp5IBZE8wI4TEd/9u3tbxdCdOWPdPibBFhNCQUgCzHAgMLKUR2YwwNVviLhr1k9J7sxpoX9ZZV9yHK7p580Mmm07fKbKhwxbhgQAAAB5Bnw1FFSwj/wAAAwB2wGgzZXWhobEa4WZRHmBfOgsAAAAbAZ8sdEf/AAANzhQqqizMPd4NITKMpPSORNqQAAAAFAGfLmpH/wAAAwBJj684l5XYbLiAAAAAbEGbM0moQWyZTAhn//6eEAAAGwORoDidMAGz7zpzrtfL3Ib41CSrTnbtkU8xtx2o95l49x6/x/t3wiLQKhaMz9iTJ0UKJ6GHvOEVikZogf4rHSJykjDLnGGg4nv9wa3eWXyx9p6kQu8PjP8H7QAAACZBn1FFFSwj/wAACHFQKN6emF51ZqUcZTJRs3mWYJMY5cArbywJWAAAABMBn3B0R/8AAAMASVj7hUT1p2XEAAAAHwGfcmpH/wAABUE0+JricPFF4P+R9+TSsW40QPW5/dEAAABMQZt3SahBbJlMCF///oywAABIAtD4zsjTtAXGQAE1ToqD8n5mqMJXQOJLiKTzRN4L2VGmDrOC/StdPdwB7hDHDXAkW57f1OpSCdpAwQAAAC1Bn5VFFSwj/wAAF0VYUn1An05ADioSC78xFVL/6l++ODjsdrrn0YG99Zkjhx0AAAAaAZ+0dEf/AAAkrDopueoPIjF0ze7nOr/zSLgAAAAUAZ+2akf/AAAFQy5mvxJm+EKaPmAAAAAjQZu6SahBbJlMCGf//p4QAAAKN6ssR/ix7ZNl13c32uzwPyEAAABJQZ/YRRUsI/8AAAitglnqYsrvauubRkdrG2iUfKhZlXou9AA2jxmDoySdmLOyucIJYdEzkCfovr+rWirTrdrTbwZq5n1uyLX9SAAAAB0Bn/lqR/8AAA3UnatjWWdiy2yXHReroGZcIqFNgAAAAGFBm/5JqEFsmUwIZ//+nhAAAAo3hyba8LBx/mpSn6Qlqbr4AAOyAUa9AnJho6vQRDeNzJGQCMiT+/Yab1u0JqfymmWBEgTv7MKKTZSbMn0/mnySTBSfbQATPpnjmDOTFmzRAAAAH0GeHEUVLCP/AAAIcVAmJKeZ0h+PDVQgR9wy0+Ea2FgAAAAnAZ47dEf/AAAFRI454onE3NUkSJEBYYEV2BgvMOEx4hW7mHHJSfTBAAAADgGePWpH/wAAAwAAAwGpAAAARUGaIkmoQWyZTAhn//6eEAAASbpvOuoQ0AfzghqM0afTXIenWJdVumuwxwka9rW8qxdpxP4YdxnE6vvwLa9tsyBMoPljwAAAACRBnkBFFSwj/wAAF+J5kLWt3WPbTipJcDy6yI1DOZPC0iT8obEAAAAjAZ5/dEf/AAAlrD5WyU2uh3oJBlpGnmkc2L3kURslHIn/h90AAAAlAZ5hakf/AAAksisFwK+GR2oASXc7VNYpUPq0dew3Mqp8s6uIEQAAAF9BmmZJqEFsmUwIZ//+nhAAAElP9jkXSoCvdHgIGNPgIfDowTY4y44bv4Pgh0Q97U1GR9UzJZG8bnV8q0X3Xk9UDj1Imv0IkF2lC4/P91eDHmf0RyKsS0qCXdw0kxwF4QAAAB1BnoRFFSwj/wAACO8nNmFsGTkvR4GorQ/K2I9xtwAAAA4BnqN0R/8AAAMAAAMBqQAAABsBnqVqR/8AAA4r/qtjWUTTTslSnchiRHJYDbkAAABDQZqqSahBbJlMCGf//p4QAABJRQT3LnAHTm2f0lPHSqf7rO0ciCDgttaGh3GC/MlTw7W10b0tNWOE5ucGH13iE2zF4AAAACBBnshFFSwj/wAAF+mDzbcVzKyZSYQyKgpDIBv3rNRIMQAAABABnud0R/8AAAMAvvcDnAb8AAAAGwGe6WpH/wAAJbHMCW+pb7IVSPv8BijIPnebcQAAAHhBmu5JqEFsmUwIZ//+nhAAAAp8tFAALqGDvO47f7Ui2xjEac6CMLm65mjdjfmswvCTmxn4V6wZx2EXnC/rNZulZkZ5+L82xqi2mlo8rREzAjQWl/2d3udZoBUpCFtmCYBONiG2SlMriDj5Xt2Mc3m3SkpUuIX86KEAAAAgQZ8MRRUsI/8AAAMDYE1m7WtMDwjxeYW3pD1jJWCts+EAAAAaAZ8rdEf/AAAFZ8vtFTSqep95KnJKG7PaKz8AAAAOAZ8takf/AAADAAADAakAAACGQZsySahBbJlMCGf//p4QAABFum22WWmxcAH8353n5qOKsb595Hxzr9tlzQu/6OVsdG5seiw478FLUSqTiN6yGf53CKwxMq4SgQr2SZqBeJSAdEMQwXjeSsiq3YYwb1W1aqKPHDGq1pdvMeICzUIwsaBDKLmtaEWlooo0M3ryR5s9u8rvD0wAAAA1QZ9QRRUsI/8AAAMDYWFfLMcfQA/ReAvmIHXw1ADkKP2ogg7r0NuK0bfaUcClcta3RPBrzZ8AAAAqAZ9vdEf/AAAFZFJptSUFx9BzlHYcjIzAAJulLVUNMRnm3/jTjJHoA2fAAAAAHAGfcWpH/wAADiv39eEMxTkxDtSfzrmIU5/CzacAAABIQZt2SahBbJlMCGf//p4QAABJRQg0ArhTX8PhpgmpJGubC7+DH94C/TsVVTlTbFvinUif0IdG5cmzme2dmWYegz+hPjlhVO/BAAAAJ0GflEUVLCP/AAAX6YPN/Y0Y2DCwQbw0tpgeAAXWsr7wlOJ/dmu6wQAAAB8Bn7N0R/8AAA4tfHlU0gYXLkoBfVs7ZTFXlbStak7rAAAARAGftWpH/wAAJbHMA+2lRFgA42l8O5vvlWVkpm5YB/BmvIbBa/5WfZR9dX1R0QDgZCunZy5ykN5K8hLq5JARUnn7g2fAAAAAdkGbukmoQWyZTAhn//6eEAAASUUFFN6MK4mQHU2MIoAxis8Et5Aud0VbsGGmYOxHtD3fQ/5SpZBze1NzmZLg6B4i+VvR5qG5iBSVb1JCZ3CyG53dU2QANSYF4FeNAME5ZWwPNTyj7COUfLLMABppJe2rh2lgW4AAAAAiQZ/YRRUsI/8AABfpg823Fcyr3Wg0BXFmGi31cRSj+uKG3QAAABABn/d0R/8AAAMAG5wn2I2AAAAAHQGf+WpH/wAAJb8EJxLJaZq4VlMfKjt+L62NBJBgAAAAKkGb/kmoQWyZTAhn//6eEAAACo/hFAUFB/5p3FioaKrcXdRcL/2qQoBdwQAAABRBnhxFFSwj/wAAAwNX7kSKM8wBSQAAACkBnjt0R/8AAAVkT+DydX05xKOKSu3STleFdy4M0npWQmXMpspZ+MftnwAAAA8Bnj1qR/8AAAVnNQoAk4EAAACNQZoiSahBbJlMCGf//p4QAABJaPIFAK4PG4HR3YZlyCXy6n1kbvmVkXSmx8DzLSJ19Vu0LawEwwfwz4ydqPZ1HH6SPPYnv2wTOORBqR5CUPm4olaXv73hizn3vDhXQdoiFo1FvC/ezyL/yEbQIIf/c044YSzGxl+AzsIKxuFG6/axSNTH6PIBMjczLuU4AAAAP0GeQEUVLCP/AAAX6YPNtTYN4t/gARkF0Y8zAwZVs9dHEREpCYGyqY3Xu1yB8kYVmpR67abrLU76IRTcynt8+QAAAB8Bnn90R/8AAAVWEblSY4i6X01OdIbp+ctRDSnU4HTgAAAAMgGeYWpH/wAAJb8EJ+6JyeZOXAlGOnk9B3dL7WehaYQAbZLgQDq9GueZYLlkINkx3XadAAAAG0GaZkmoQWyZTAhn//6eEAAACjScJuMI9ABdwQAAABJBnoRFFSwj/wAAAwNMU0oAfcAAAAAPAZ6jdEf/AAAFQFv2AL2AAAAADgGepWpH/wAAAwAAAwGpAAAAWEGaqkmoQWyZTAhn//6eEAAAGvRUHV6ia5mZMpW9fJ8g9zBeoA7kWYEdLgSk1hx6AK3mQjXFzMoTvHrpETy0Qz7H57vDcq7IYeC55iYCLEbsRGZjR26GHkAAAAA1QZ7IRRUsI/8AAAMDYGykALZrEvxJCuKoxuQ2Jpjxjp8XD3tUwd6eutY3G/hCskTD8Kg/usEAAAAuAZ7ndEf/AAAFZ8vstks+IZBMEgJh7wg+8rUgSgA3cM/1N59DkOQ+SId1ANl3WAAAACABnulqR/8AAAVnMJYQUlpg+vD+D84qtcgDYGlHVH9UmQAAADlBmu5JqEFsmUwIZ//+nhAAAElFBPcucAoB9BvptXzirOqvwHFSUf0NCWjLbrRu1HuZrh04CrQ/GIEAAAAgQZ8MRRUsI/8AABfpg823FcysmUjn6lfVBlryhnv1GQcAAAAOAZ8rdEf/AAADAAADAakAAAA5AZ8takf/AAAlscwJb6q+iINm/H+yKZKLLJzgXBYtabt5KyW+TdWQuABbR2u3qc/YNsCNWwxG59pwAAAAQ0GbMkmoQWyZTAhn//6eEAAAGx9RWK1gaZwfKek/wAOn5wrYHI1BgIykvoqUSFSoSIyHmls7/HptFFFWdTQ1WmwLwhAAAAAcQZ9QRRUsI/8AAAisCh5F5AnTPCPZCSPGWmohtwAAABwBn290R/8AAAMB8bIkUhiSzo/lMTg7lZ1P9cgwAAAADgGfcWpH/wAAAwAAAwGpAAAAVEGbdkmoQWyZTAhn//6eEAAAG7DALcHT+gBK+wIDd7Xvw/TrbW2sKM7ggzMkp7daKeVSGNshi53qOoAawOIVXrys1bZI/eLriDxV7lWmz0/JkKFccQAAACxBn5RFFSwj/wAAAwNNMc2jybuAG5aL5b/i+SlkMuSHCV7reuTVS5pX8w/dYQAAABoBn7N0R/8AAAVn0MHOto3DV9gRWgicZldnwQAAABwBn7VqR/8AAAVnMJYRuyLSVLSXJ1MEDXABPSkGAAAAT0GbukmoQWyZTAhn//6eEAAASUUINAE+FYHhtjgw+gbsyRl9e5rCP0ovzAAESMsuUNKXGyiopnV33dj7Ti9ZPuu5JI73gwnBljbIVUDYeoMAAAApQZ/YRRUsI/8AABfiazrIcq3t01mYABEPR5n4rHBmkGCo4iqhJLau91kAAAAaAZ/3dEf/AAAlq/hbeBKdaCOIJQ1/4M6rrAgAAAAcAZ/5akf/AAAFZzCWe4ktM1LU0XCiyrJGifqyDAAAAFxBm/5JqEFsmUwIZ//+nhAAABuUVAV1wy7sH6MKAxySwALIUCuJAMDa9cPXmXwLpVVhPlIVKLls52VjJduUf8FCwPDhBE/pZwOZtAymILbtgZEjyirfxz6hi6xqlwAAAB9BnhxFFSwj/wAAAwNgTWg38lj//ig2iDkowCBxjLPgAAAAGwGeO3RH/wAABWfL7ooJGjNpgONYqSqyIszFnwAAAA4Bnj1qR/8AAAMAAAMBqQAAAFpBmiJJqEFsmUwIZ//+nhAAABuxu5X4Yt/Tr7fAdBjCU6HNOh/9OZhlVJk/rXL7mRbnNyFgBwXyA6gW3XXLjpRvO8QDv5ksu9Gmp4SRChSH+nlNe4/WWdl8w8AAAAAiQZ5ARRUsI/8AAAjr+ucbzS9fAZaUWW9Fx2W9USL/kOzIMQAAAB8Bnn90R/8AAA4tfHlU0Dqj6HjXycjgISyQOiytJlnwAAAAEAGeYWpH/wAAAwBJfjewa0EAAABaQZpmSahBbJlMCGf//p4QAABJNnHhJgATvxdnla9YZ2WtTyGWC/5JINZFRP2fDLDEkfdVbfqKY0l3iC21zIsU9hDj0mT+oebu0mCo/OiaAPNRsGN1jvff4OhPAAAAH0GehEUVLCP/AAAX4ms3a1pgeEgSPoSELwAwMbc3HTgAAAAtAZ6jdEf/AAAlq/hZNHDMvxkFTiY7cjwO7GyFZUXhL2xOANcaWXgq8Mp9/NnwAAAADgGepWpH/wAAAwAAAwGpAAAAakGaqkmoQWyZTAhn//6eEAAASWjxRY/tMWVLzPqBRME1tDhGmAFuouS6qicqivt8CYt8EdtQDJnI5mVOPFZE0M77OsV41N5WuXHlmsL3Hvy6SuMjX0Jl1c077QTSHN/OOd+oMTJ1EJ2MoMAAAAAgQZ7IRRUsI/8AABfpg823FcysmUk+B0kIGQZsRa6HIMEAAAAOAZ7ndEf/AAADAAADAakAAAAdAZ7pakf/AAAlvwQnEslpmrhWUx8qO34vrY0EkGEAAAAXQZruSahBbJlMCGf//p4QAAADAAADAz8AAAAQQZ8MRRUsI/8AAAMAAAMBBwAAAA4Bnyt0R/8AAAMAAAMBqQAAAA4Bny1qR/8AAAMAAAMBqQAAAFpBmzJJqEFsmUwIZ//+nhAAABsQ6zCh7CgA2feVZeAgUNfFcdIJMh/rvhhZhCQwlefe1Cbq3GwqFrYBUKzDInguWFNbfMNJpfCNq1PKFgDk+79idDl0fJhGV6AAAAAgQZ9QRRUsI/8AAAisDLTKF1B35YD7JFjFbZZOKB5+UYEAAAAaAZ9vdEf/AAAFZ8vtFTSqep95KnJKG7PaKz4AAAAOAZ9xakf/AAADAAADAakAAAB7QZt2SahBbJlMCGf//p4QAABJRQVM48AXp07l/21prfnGJstEJFun7MCBSuBxuHZyregL2kKtacOsO71fnTIFJGJ2w7DC91Q9y1sCnDvv6yX8IvxrSHuaAJZs5dkFb5BwTRxUnjcWNLhuz4Stt4tIEx5DJvI8jZp3IxjtAAAALkGflEUVLCP/AAAX4ms5c1sC8Wn1s2CuPPYOF1jPMAlVCU+fQ7fq+NsKWzae04EAAAAXAZ+zdEf/AAAlwxdoqaVT1PvIk1nb848AAAAcAZ+1akf/AAAOK/S2T5S0zVwrKZLlhx2rAqcs+AAAAF9Bm7pJqEFsmUwIZ//+nhAAABuaT6MZBIiZ718sjDt3NhMMp3KIqv7gNdgA8KldsL21a8Zx/cuZtAUu8Gn4s2jYwSwjzhXtZl5QF75k6fsSPEzMFGW4f6vNd4/LaodhWAAAACRBn9hFFSwj/wAACOwKoQe2WmAhGQor7eVXWZOLrIfm4DOgrPkAAAAuAZ/3dEf/AAAOLXx5X73BrsGbiaz003C2zmQ/lRcUAD1P0BTHsJTMfFSWH3BrTgAAABsBn/lqR/8AAAVnMJZ8OiP72g4DNJxsO3kutnwAAABRQZv+SahBbJlMCGf//p4QAAAKih1qGse51ACs+DWp3aklnzKfg+SB5gHisuwfqcARxfKuTdmoQ0NfrLRPEzhxiOj0k0MFHfn0LdUoWoMXrX+dAAAAHkGeHEUVLCP/AAADA2EwebbiuZWWnqSamxguQnEFpwAAAA4Bnjt0R/8AAAMAAAMBqQAAABsBnj1qR/8AAAVnMJZ7iS0zVwrPehofAIKVMg0AAABPQZoiSahBbJlMCGf//p4QAABJRQg0AUGatqV7WV3C3B3jCOzHryXThoMpw1fdyOdOZy0VYWJTcZD1kzxl8zH1ycnzt/sfbEEnifMkbL88MAAAACVBnkBFFSwj/wAAF+JrN2taQiVLlHIDuxg4/gAOEDF+2iLMHcdpAAAAOAGef3RH/wAAJav4W3gTRDgAXUAee9mCRTapMQuWvBHr14CGncqspjxIWbqROwRc5Qah5V71q11gAAAAEAGeYWpH/wAAAwHxf+KAZUEAAABuQZpmSahBbJlMCGf//p4QAAAbl09QArby91PjUCsZnll6U3/1Z5T3o5yfRVwr4eWuH820FCYT+CyaftqNx1x/ws3mvK4pcgl+mWB7nftjeNWswqkEaf2ZTxuquaOPP4mY6QGgNDtiLRKDoNy9m4EAAAAnQZ6ERRUsI/8AAAisDLb+7F2NngsS7RbJ17hZtNr8fSW2uhq3vpkGAAAAHAGeo3RH/wAAAwHwRSGI0bpkuU4DZgn2tbkTZZ8AAAAbAZ6lakf/AAAFZzTVsZMLz+vAFQ1fzZBFsOnBAAAAYUGaqkmoQWyZTAhn//6eEAAASWVBT9FYm2On2vXqh7+l+7LoJl/rV0AAOkueHaCDpNvXUJ00s+5HzozUuF/RrCEcgyM4kTNdqA1iozC/eO+YqKAIUbGAuxgTYefGWokVVGAAAAAmQZ7IRRUsI/8AABfiazdrPjnNK9oXHWRoVEMdXznyNPznd0lonTkAAAAYAZ7ndEf/AAAlq/hbeBKdaCOJCcbjs9TQAAAAGgGe6WpH/wAABWc01bGssCqAmJxAt4MxygdpAAAAR0Ga7kmoQWyZTAhn//6eEAAAG5Fbq7pKyQAF1DB21H7XyUBHux1Nl5bthWTDDOPQd3F2CEVXFZcy5ZEG89I+kK57zcji5NXpAAAAHUGfDEUVLCP/AAAI7AoeRWcf7MHkdB155xiC3tCBAAAAGQGfK3RH/wAABWfQwc8bCfinMyH43S6Yl8kAAAAQAZ8takf/AAADAAqGahSXgAAAAJFBmzJJqEFsmUwIX//+jLAAAEoC094CZn/ilOCfZV3o3aGJrne3QfGdXI36LtTcvcNjVXYHL+8G0/KMWauSCZhx3hQKny8c72vePUbsPkAo18jRzFsYuVy1aCZ7oOFVI6NvxQKPCfvaNK3peC0+njncK2P/3MVixwtb9wK5sLbJ+nlcRCgHZkqUimND6ejXVygMAAAAJ0GfUEUVLCP/AAAX6Y3EHoX0X6/fNEGz7AqrNDtamMt7SAf3MNj1nwAAAB0Bn290R/8AAAVn0MHPGwn4pv5uhzRlESZ8vlZgIAAAABsBn3FqR/8AACWyLt7ItdSjG/P7vV90/wra3jgAAAA+QZt1SahBbJlMCGf//p4QAAAcb2PBXBorbb6nwgRHiONMmcXnmcAh7oAK4aPh8jmHEfrsQYedfcfnawaNZN8AAAAeQZ+TRRUsI/8AAAksChy1/uNIzxTZr4MLMPPE8FJBAAAAEQGftGpH/wAABWc1C1nB2n+BAAAARkGbuUmoQWyZTAhn//6eEAAASUUINADnp15OVqqdlowSyoV1oNq0vhGcW6xmpN4/CmLTh13CbUwsGp8u0N63pTa201dOkvAAAABJQZ/XRRUsI/8AABfpjWC8wdMEH0NkbsdYAIurKo/aARQV7aB+O3OhJQqVGfeGZDy5BPOPmw3Q01Bjdjsv57g7bv3oCetVJWIDuAAAAB0Bn/Z0R/8AAA4kUPPY8Ga5+StxrR/yfLfY74sVFwAAAC8Bn/hqR/8AACW/Gs58FxwYXoO16Pqvww/ND6wugwdb3EAIUkEDEJL1HPLApUgK2AAAAE1Bm/1JqEFsmUwIZ//+nhAAAAqPs/jwlxe23j7LV9HVfU+OumcHEQBEDC9OharIAVFJsr9XWihJof0P6vf9Nb2gQziWub3b2TMCEiWSWQAAACJBnhtFFSwj/wAAAwNgUIBO3HZ1scRVr3firyn6UAk+GvyRAAAAGwGeOnRH/wAABWRbeZLHx9Kxcdb11VQvSNPyQAAAABABnjxqR/8AAAMAA+L/xWVBAAAATkGaIUmoQWyZTAhn//6eEAAACoI/ZYuXniZdVG7RDb2FEJZCdgAESQujaGqzNGdx05Y904chhnwWh1hwetglWRWSIa9xvLo2bZYxVy8w5QAAACBBnl9FFSwj/wAAAwNNvApM1D0wqvjCIOwOEJjTDibvpgAAACUBnn50R/8AAAMACxRx2W/vSZdEzmIAAa0c+ShFhy4NAa637pAZAAAAGgGeYGpH/wAAAwDD/WNMXnfhg6TW8OR619sBAAAAOUGaZUmoQWyZTAhn//6eEAAASUUF8eZEEALda2muoLw87iO2kitGU3P+VIQWj81kYcbWWk7ffd6qXwAAABtBnoNFFSwj/wAAF+mLie595BNZytBMupco96EAAAATAZ6idEf/AAAOJFDzXeeFK9nFgAAAABgBnqRqR/8AACWyKG0EC90ZsJimRtOz58cAAABbQZqpSahBbJlMCF///oywAAAK77l8ZehAB+27Bv32xSWQkw1g44ooiW67GayBG5c+7qUThDWch3aZas8VhaEy+9y8/sXUgek+9p1iA5++2vnbGN9l562BhlVNYQAAACVBnsdFFSwj/wAAAwNgTzF0sx6EuzKgARg7AQBD3lKmEj0+1sBAAAAAHAGe5nRH/wAABWRbeZLNb4kcGjq52R+uBkpqn00AAAASAZ7oakf/AAAFQzTVv7/RINSAAAAAfUGa7UmoQWyZTAhf//6MsAAASgLVMQBxNWp11ZL/3r0pTkkKHvqT9S0tVaRNh1j8c6iK0mvfamM6yUEhwUGRmXi7fVTvrJpUgID6Vp55+Z4xiMaW0iR4WRbveNs8SBwbMlsKHD2TzTAffDqNqs8n7geC2L3CI9Wy93Do8xbpAAAAI0GfC0UVLCP/AAAX6Y5rwv/zgUWuz8N8Jv0PglcjXEMogoQJAAAAEAGfKnRH/wAABUBbea6Ag4EAAAAeAZ8sakf/AAAlsir2Tzdnr6Rmw5ks8gRLIhWxEA7pAAAASUGbMUmoQWyZTAhf//6MsAAAG8pcqbL/7+sH7lnxuLDzLGrfydfLeAAS1NydRWYBqh4DMXezb6OT1ibyDcP9jBi1GkhQTnZ2j+UAAAAiQZ9PRRUsI/8AAAjvH1w/rjhExeK/4ynRh9RJKTcu1C4mAgAAABUBn250R/8AAA3OEvPg1kkiT3pwHzEAAAAoAZ9wakf/AAAFZkoZmnhhKa7mmGzCA/nrMAMyXTeG6quCLEKUUE1ggQAAADdBm3VJqEFsmUwIV//+OEAAACjaerLqJ6L3PPxPuou4uql68c1pe6WCkKuax2DA/XNfFxworIx4AAAAH0Gfk0UVLCP/AAADA3W7g7gsw8wnU5HbSINiQ71js+EAAAAOAZ+ydEf/AAADAAADAakAAAAdAZ+0akf/AAAFZT5gFGPw5KYjiPaozfMDH3rXfkkAAAA4QZu5SahBbJlMCEf//eEAAAMAO5irXcCa4b3LKMN+PX9hPZ0jy83arsEhDhUFvrszLdIAutj2mhgAAAAgQZ/XRRUsI/8AAAMDdbq9e79GsPGlW1V+A8uiZJXQfJAAAAAaAZ/2dEf/AAAFZFt5ksfH/8YuoiEN0jYHZ8EAAAAPAZ/4akf/AAAFZzUKAJOAAAABSmWIhAAr//72c3wKa0czlS4Fdvdmo+XQkuX7EGD60AAAAwAAAwAATcVEzosKY8TZAAADAFxAEeCwCPCVC2EhH2OwLnFtZbFgBcpSsnWBtRPuOAtc/0xY/cbbO6OJHX8O/if4AoByUPRM5CUIm8y8QjWRD2CLvfhxKYcgArUEu7QikqICVFYEDwLWhrLcDRYJe2xjhXVmg1W3GWfLwvYR17G0qA+a5+yeUOAkASf5xhQ/PbDbjiDAWWcJMhRHKP8upJT6jYTQEl2p3eysDjqQrlVMV8rnlAr3wzA3JffsDXq92oV81+VnwE2nlJ6jTjoZw3sLJkFrdqZVWNAHwjeeG48Nq6mdgCfxmmYXbuwsp0GkQB4iu3gNmzIfT8IS3M8cCiVXRGjMJMJWq71z7PBmT4Zij5z4AXYAAdFBuTbdAAQgAAADAAADAADwgAAAGndtb292AAAAbG12aGQAAAAAAAAAAAAAAAAAAAPoAAAnJAABAAABAAAAAAAAAAAAAAAAAQAAAAAAAAAAAAAAAAAAAAEAAAAAAAAAAAAAAAAAAEAAAAAAAAAAAAAAAAAAAAAAAAAAAAAAAAAAAAAAAAACAAAZoXRyYWsAAABcdGtoZAAAAAMAAAAAAAAAAAAAAAEAAAAAAAAnJAAAAAAAAAAAAAAAAAAAAAAAAQAAAAAAAAAAAAAAAAAAAAEAAAAAAAAAAAAAAAAAAEAAAAACWAAAAZAAAAAAACRlZHRzAAAAHGVsc3QAAAAAAAAAAQAAJyQAAAIAAAEAAAAAGRltZGlhAAAAIG1kaGQAAAAAAAAAAAAAAAAAADIAAAH1AFXEAAAAAAAtaGRscgAAAAAAAAAAdmlkZQAAAAAAAAAAAAAAAFZpZGVvSGFuZGxlcgAAABjEbWluZgAAABR2bWhkAAAAAQAAAAAAAAAAAAAAJGRpbmYAAAAcZHJlZgAAAAAAAAABAAAADHVybCAAAAABAAAYhHN0YmwAAACYc3RzZAAAAAAAAAABAAAAiGF2YzEAAAAAAAAAAQAAAAAAAAAAAAAAAAAAAAACWAGQAEgAAABIAAAAAAAAAAEAAAAAAAAAAAAAAAAAAAAAAAAAAAAAAAAAAAAAAAAAAAAY//8AAAAyYXZjQwFkAB//4QAZZ2QAH6zZQJgz5eEAAAMAAQAAAwBkDxgxlgEABmjr48siwAAAABhzdHRzAAAAAAAAAAEAAAH1AAABAAAAABxzdHNzAAAAAAAAAAMAAAABAAAA+wAAAfUAAA+YY3R0cwAAAAAAAAHxAAAAAQAAAgAAAAABAAAFAAAAAAEAAAIAAAAAAQAAAAAAAAABAAABAAAAAAEAAAUAAAAAAQAAAgAAAAABAAAAAAAAAAEAAAEAAAAAAQAABQAAAAABAAACAAAAAAEAAAAAAAAAAQAAAQAAAAABAAAFAAAAAAEAAAIAAAAAAQAAAAAAAAABAAABAAAAAAEAAAUAAAAAAQAAAgAAAAABAAAAAAAAAAEAAAEAAAAAAQAABQAAAAABAAACAAAAAAEAAAAAAAAAAQAAAQAAAAABAAAFAAAAAAEAAAIAAAAAAQAAAAAAAAABAAABAAAAAAEAAAUAAAAAAQAAAgAAAAABAAAAAAAAAAEAAAEAAAAAAQAABQAAAAABAAACAAAAAAEAAAAAAAAAAQAAAQAAAAABAAAFAAAAAAEAAAIAAAAAAQAAAAAAAAABAAABAAAAAAEAAAUAAAAAAQAAAgAAAAABAAAAAAAAAAEAAAEAAAAAAQAABQAAAAABAAACAAAAAAEAAAAAAAAAAQAAAQAAAAABAAAFAAAAAAEAAAIAAAAAAQAAAAAAAAABAAABAAAAAAEAAAUAAAAAAQAAAgAAAAABAAAAAAAAAAEAAAEAAAAAAQAABQAAAAABAAACAAAAAAEAAAAAAAAAAQAAAQAAAAABAAAFAAAAAAEAAAIAAAAAAQAAAAAAAAABAAABAAAAAAEAAAUAAAAAAQAAAgAAAAABAAAAAAAAAAEAAAEAAAAAAQAABQAAAAABAAACAAAAAAEAAAAAAAAAAQAAAQAAAAABAAAFAAAAAAEAAAIAAAAAAQAAAAAAAAABAAABAAAAAAEAAAUAAAAAAQAAAgAAAAABAAAAAAAAAAEAAAEAAAAAAQAABQAAAAABAAACAAAAAAEAAAAAAAAAAQAAAQAAAAABAAAFAAAAAAEAAAIAAAAAAQAAAAAAAAABAAABAAAAAAEAAAUAAAAAAQAAAgAAAAABAAAAAAAAAAEAAAEAAAAAAQAABQAAAAABAAACAAAAAAEAAAAAAAAAAQAAAQAAAAABAAAFAAAAAAEAAAIAAAAAAQAAAAAAAAABAAABAAAAAAEAAAUAAAAAAQAAAgAAAAABAAAAAAAAAAEAAAEAAAAAAQAABQAAAAABAAACAAAAAAEAAAAAAAAAAQAAAQAAAAABAAAFAAAAAAEAAAIAAAAAAQAAAAAAAAABAAABAAAAAAEAAAUAAAAAAQAAAgAAAAABAAAAAAAAAAEAAAEAAAAAAQAABQAAAAABAAACAAAAAAEAAAAAAAAAAQAAAQAAAAABAAAFAAAAAAEAAAIAAAAAAQAAAAAAAAABAAABAAAAAAEAAAUAAAAAAQAAAgAAAAABAAAAAAAAAAEAAAEAAAAAAQAABQAAAAABAAACAAAAAAEAAAAAAAAAAQAAAQAAAAABAAAFAAAAAAEAAAIAAAAAAQAAAAAAAAABAAABAAAAAAEAAAUAAAAAAQAAAgAAAAABAAAAAAAAAAEAAAEAAAAAAQAABAAAAAACAAABAAAAAAEAAAUAAAAAAQAAAgAAAAABAAAAAAAAAAEAAAEAAAAAAQAABQAAAAABAAACAAAAAAEAAAAAAAAAAQAAAQAAAAABAAAFAAAAAAEAAAIAAAAAAQAAAAAAAAABAAABAAAAAAEAAAUAAAAAAQAAAgAAAAABAAAAAAAAAAEAAAEAAAAAAQAABQAAAAABAAACAAAAAAEAAAAAAAAAAQAAAQAAAAABAAAFAAAAAAEAAAIAAAAAAQAAAAAAAAABAAABAAAAAAEAAAUAAAAAAQAAAgAAAAABAAAAAAAAAAEAAAEAAAAAAQAABQAAAAABAAACAAAAAAEAAAAAAAAAAQAAAQAAAAABAAAFAAAAAAEAAAIAAAAAAQAAAAAAAAABAAABAAAAAAEAAAUAAAAAAQAAAgAAAAABAAAAAAAAAAEAAAEAAAAAAQAABQAAAAABAAACAAAAAAEAAAAAAAAAAQAAAQAAAAABAAAFAAAAAAEAAAIAAAAAAQAAAAAAAAABAAABAAAAAAEAAAUAAAAAAQAAAgAAAAABAAAAAAAAAAEAAAEAAAAAAQAABQAAAAABAAACAAAAAAEAAAAAAAAAAQAAAQAAAAABAAAFAAAAAAEAAAIAAAAAAQAAAAAAAAABAAABAAAAAAEAAAUAAAAAAQAAAgAAAAABAAAAAAAAAAEAAAEAAAAAAQAABQAAAAABAAACAAAAAAEAAAAAAAAAAQAAAQAAAAABAAAFAAAAAAEAAAIAAAAAAQAAAAAAAAABAAABAAAAAAEAAAUAAAAAAQAAAgAAAAABAAAAAAAAAAEAAAEAAAAAAQAABQAAAAABAAACAAAAAAEAAAAAAAAAAQAAAQAAAAABAAAFAAAAAAEAAAIAAAAAAQAAAAAAAAABAAABAAAAAAEAAAUAAAAAAQAAAgAAAAABAAAAAAAAAAEAAAEAAAAAAQAABQAAAAABAAACAAAAAAEAAAAAAAAAAQAAAQAAAAABAAAFAAAAAAEAAAIAAAAAAQAAAAAAAAABAAABAAAAAAEAAAUAAAAAAQAAAgAAAAABAAAAAAAAAAEAAAEAAAAAAQAABQAAAAABAAACAAAAAAEAAAAAAAAAAQAAAQAAAAABAAADAAAAAAEAAAEAAAAAAQAAAgAAAAABAAAFAAAAAAEAAAIAAAAAAQAAAAAAAAABAAABAAAAAAEAAAUAAAAAAQAAAgAAAAABAAAAAAAAAAEAAAEAAAAAAQAABQAAAAABAAACAAAAAAEAAAAAAAAAAQAAAQAAAAABAAAFAAAAAAEAAAIAAAAAAQAAAAAAAAABAAABAAAAAAEAAAUAAAAAAQAAAgAAAAABAAAAAAAAAAEAAAEAAAAAAQAABQAAAAABAAACAAAAAAEAAAAAAAAAAQAAAQAAAAABAAAFAAAAAAEAAAIAAAAAAQAAAAAAAAABAAABAAAAAAEAAAUAAAAAAQAAAgAAAAABAAAAAAAAAAEAAAEAAAAAAQAABQAAAAABAAACAAAAAAEAAAAAAAAAAQAAAQAAAAABAAAFAAAAAAEAAAIAAAAAAQAAAAAAAAABAAABAAAAAAEAAAQAAAAAAgAAAQAAAAABAAAFAAAAAAEAAAIAAAAAAQAAAAAAAAABAAABAAAAAAEAAAUAAAAAAQAAAgAAAAABAAAAAAAAAAEAAAEAAAAAAQAABQAAAAABAAACAAAAAAEAAAAAAAAAAQAAAQAAAAABAAAFAAAAAAEAAAIAAAAAAQAAAAAAAAABAAABAAAAAAEAAAUAAAAAAQAAAgAAAAABAAAAAAAAAAEAAAEAAAAAAQAABQAAAAABAAACAAAAAAEAAAAAAAAAAQAAAQAAAAABAAAFAAAAAAEAAAIAAAAAAQAAAAAAAAABAAABAAAAAAEAAAUAAAAAAQAAAgAAAAABAAAAAAAAAAEAAAEAAAAAAQAABQAAAAABAAACAAAAAAEAAAAAAAAAAQAAAQAAAAABAAAFAAAAAAEAAAIAAAAAAQAAAAAAAAABAAABAAAAAAEAAAUAAAAAAQAAAgAAAAABAAAAAAAAAAEAAAEAAAAAAQAABAAAAAACAAABAAAAAAEAAAUAAAAAAQAAAgAAAAABAAAAAAAAAAEAAAEAAAAAAQAABQAAAAABAAACAAAAAAEAAAAAAAAAAQAAAQAAAAABAAAFAAAAAAEAAAIAAAAAAQAAAAAAAAABAAABAAAAAAEAAAUAAAAAAQAAAgAAAAABAAAAAAAAAAEAAAEAAAAAAQAABQAAAAABAAACAAAAAAEAAAAAAAAAAQAAAQAAAAABAAAFAAAAAAEAAAIAAAAAAQAAAAAAAAABAAABAAAAAAEAAAUAAAAAAQAAAgAAAAABAAAAAAAAAAEAAAEAAAAAAQAABQAAAAABAAACAAAAAAEAAAAAAAAAAQAAAQAAAAABAAAFAAAAAAEAAAIAAAAAAQAAAAAAAAABAAABAAAAAAEAAAUAAAAAAQAAAgAAAAABAAAAAAAAAAEAAAEAAAAAAQAABQAAAAABAAACAAAAAAEAAAAAAAAAAQAAAQAAAAABAAAFAAAAAAEAAAIAAAAAAQAAAAAAAAABAAABAAAAAAEAAAUAAAAAAQAAAgAAAAABAAAAAAAAAAEAAAEAAAAAAQAABQAAAAABAAACAAAAAAEAAAAAAAAAAQAAAQAAAAABAAAFAAAAAAEAAAIAAAAAAQAAAAAAAAABAAABAAAAAAEAAAUAAAAAAQAAAgAAAAABAAAAAAAAAAEAAAEAAAAAAQAABQAAAAABAAACAAAAAAEAAAAAAAAAAQAAAQAAAAABAAAFAAAAAAEAAAIAAAAAAQAAAAAAAAABAAABAAAAAAEAAAUAAAAAAQAAAgAAAAABAAAAAAAAAAEAAAEAAAAAAQAABQAAAAABAAACAAAAAAEAAAAAAAAAAQAAAQAAAAABAAAFAAAAAAEAAAIAAAAAAQAAAAAAAAABAAABAAAAAAEAAAUAAAAAAQAAAgAAAAABAAAAAAAAAAEAAAEAAAAAAQAABQAAAAABAAACAAAAAAEAAAAAAAAAAQAAAQAAAAABAAAFAAAAAAEAAAIAAAAAAQAAAAAAAAABAAABAAAAAAEAAAUAAAAAAQAAAgAAAAABAAAAAAAAAAEAAAEAAAAAAQAABQAAAAABAAACAAAAAAEAAAAAAAAAAQAAAQAAAAABAAAFAAAAAAEAAAIAAAAAAQAAAAAAAAABAAABAAAAAAEAAAUAAAAAAQAAAgAAAAABAAAAAAAAAAEAAAEAAAAAAQAABQAAAAABAAACAAAAAAEAAAAAAAAAAQAAAQAAAAABAAAFAAAAAAEAAAIAAAAAAQAAAAAAAAABAAABAAAAAAEAAAQAAAAAAgAAAQAAAAABAAAFAAAAAAEAAAIAAAAAAQAAAAAAAAABAAABAAAAAAEAAAUAAAAAAQAAAgAAAAABAAAAAAAAAAEAAAEAAAAAAQAABQAAAAABAAACAAAAAAEAAAAAAAAAAQAAAQAAAAABAAAFAAAAAAEAAAIAAAAAAQAAAAAAAAABAAABAAAAAAEAAAUAAAAAAQAAAgAAAAABAAAAAAAAAAEAAAEAAAAAAQAABQAAAAABAAACAAAAAAEAAAAAAAAAAQAAAQAAAAABAAAFAAAAAAEAAAIAAAAAAQAAAAAAAAABAAABAAAAAAEAAAUAAAAAAQAAAgAAAAABAAAAAAAAAAEAAAEAAAAAAQAABQAAAAABAAACAAAAAAEAAAAAAAAAAQAAAQAAAAABAAACAAAAABxzdHNjAAAAAAAAAAEAAAABAAAB9QAAAAEAAAfoc3RzegAAAAAAAAAAAAAB9QAABMsAAACHAAAALAAAAB0AAAAiAAAAZQAAADQAAAAiAAAALQAAAD0AAAAgAAAAFAAAABwAAABgAAAAIgAAAB4AAAAUAAAAbAAAACQAAAAUAAAAIQAAAGEAAAAdAAAAEwAAABkAAABXAAAAJgAAABkAAAAvAAAASAAAACQAAAAfAAAAFQAAAHMAAAApAAAAJQAAABwAAABVAAAAKwAAABwAAAAjAAAAZwAAACgAAAAcAAAAHAAAAHoAAAA/AAAAIQAAAB4AAAByAAAALwAAAB4AAAAfAAAAYQAAACYAAAAaAAAAJAAAACEAAAAWAAAAEgAAABIAAABTAAAAIQAAACAAAAASAAAAaAAAACMAAAASAAAAHwAAAGIAAAAfAAAAEgAAAB0AAABhAAAAIQAAACQAAAASAAAAagAAACcAAAAfAAAAIAAAAFUAAAArAAAAJQAAACAAAABRAAAAKwAAABsAAAAfAAAAVQAAACQAAAAeAAAAFgAAAJ4AAAAwAAAAKwAAAB0AAACAAAAAKgAAAB0AAAAiAAAAcwAAACkAAAAdAAAAMgAAAGoAAAAwAAAALAAAAB8AAABoAAAAOQAAACsAAAAZAAAARwAAACEAAAAfAAAAIwAAACcAAAAXAAAAFQAAABIAAABeAAAAIQAAAB4AAAASAAAAYgAAACIAAAASAAAAHwAAAHAAAAAbAAAAGQAAABMAAAAjAAAAQAAAAB4AAAAhAAAASAAAACQAAAAwAAAAEgAAAE8AAAAiAAAAHQAAAGEAAAAmAAAAHwAAABIAAABvAAAAMgAAACEAAAAeAAAAawAAACQAAAATAAAAHwAAAG8AAAAxAAAALwAAAB8AAAAfAAAAFAAAABIAAAASAAAAbgAAACYAAAAfAAAAFQAAAE8AAAAhAAAAFgAAADMAAABRAAAAHgAAABsAAAAaAAAAdwAAADAAAAAgAAAAHAAAAHUAAAAhAAAAFAAAACcAAAA+AAAAIwAAAB8AAAASAAAAXwAAAE8AAAAfAAAAMgAAAHkAAAA0AAAALQAAAC0AAABIAAAAJAAAABIAAAAeAAAAYgAAACMAAAASAAAAHgAAAGIAAAAiAAAAMAAAABQAAABlAAAAQgAAACAAAAAlAAAAbgAAACoAAAAVAAAAIwAAAF4AAAA6AAAAIQAAACAAAAAbAAAAGAAAABMAAAATAAAAXAAAACcAAAAeAAAAIgAAAH4AAAAyAAAAGwAAACQAAAA0AAAAHAAAABoAAAASAAAAhgAAADgAAAAdAAAAIgAAAGsAAAAnAAAAFAAAACgAAABeAAAAPQAAABsAAAAhAAAAKwAAAB0AAAGoAAAARwAAAB8AAAAlAAAAEgAAAFAAAAArAAAAHgAAACIAAABFAAAANAAAAB0AAAAhAAAAawAAACMAAAAhAAAAFAAAAFAAAABBAAAAJQAAACAAAABiAAAAMAAAACkAAAAdAAAAXQAAACMAAAASAAAAHwAAAGMAAAAjAAAAFgAAAB4AAABhAAAAIwAAAB8AAAASAAAAPAAAACEAAAAeAAAAEgAAAD0AAAAjAAAALQAAAFQAAAAkAAAAIAAAABIAAAB0AAAAKgAAAB8AAAAfAAAASQAAACYAAAAcAAAAIQAAAF0AAAA1AAAANAAAAB4AAACsAAAAPgAAACMAAAAiAAAAVgAAACwAAAAeAAAAIAAAAE4AAAAlAAAAKwAAACEAAAA+AAAAJAAAAB0AAAAbAAAAawAAACIAAAAfAAAAGAAAAHAAAAAqAAAAFwAAACMAAABQAAAAMQAAAB4AAAAYAAAAJwAAAE0AAAAhAAAAZQAAACMAAAArAAAAEgAAAEkAAAAoAAAAJwAAACkAAABjAAAAIQAAABIAAAAfAAAARwAAACQAAAAUAAAAHwAAAHwAAAAkAAAAHgAAABIAAACKAAAAOQAAAC4AAAAgAAAATAAAACsAAAAjAAAASAAAAHoAAAAmAAAAFAAAACEAAAAuAAAAGAAAAC0AAAATAAAAkQAAAEMAAAAjAAAANgAAAB8AAAAWAAAAEwAAABIAAABcAAAAOQAAADIAAAAkAAAAPQAAACQAAAASAAAAPQAAAEcAAAAgAAAAIAAAABIAAABYAAAAMAAAAB4AAAAgAAAAUwAAAC0AAAAeAAAAIAAAAGAAAAAjAAAAHwAAABIAAABeAAAAJgAAACMAAAAUAAAAXgAAACMAAAAxAAAAEgAAAG4AAAAkAAAAEgAAACEAAAAbAAAAFAAAABIAAAASAAAAXgAAACQAAAAeAAAAEgAAAH8AAAAyAAAAGwAAACAAAABjAAAAKAAAADIAAAAfAAAAVQAAACIAAAASAAAAHwAAAFMAAAApAAAAPAAAABQAAAByAAAAKwAAACAAAAAfAAAAZQAAACoAAAAcAAAAHgAAAEsAAAAhAAAAHQAAABQAAACVAAAAKwAAACEAAAAfAAAAQgAAACIAAAAVAAAASgAAAE0AAAAhAAAAMwAAAFEAAAAmAAAAHwAAABQAAABSAAAAJAAAACkAAAAeAAAAPQAAAB8AAAAXAAAAHAAAAF8AAAApAAAAIAAAABYAAACBAAAAJwAAABQAAAAiAAAATQAAACYAAAAZAAAALAAAADsAAAAjAAAAEgAAACEAAAA8AAAAJAAAAB4AAAATAAABTgAAABRzdGNvAAAAAAAAAAEAAAAwAAAAYnVkdGEAAABabWV0YQAAAAAAAAAhaGRscgAAAAAAAAAAbWRpcmFwcGwAAAAAAAAAAAAAAAAtaWxzdAAAACWpdG9vAAAAHWRhdGEAAAABAAAAAExhdmY1OC4yOS4xMDA=\" type=\"video/mp4\" />\n",
              "             </video>"
            ]
          },
          "metadata": {}
        }
      ]
    }
  ]
}